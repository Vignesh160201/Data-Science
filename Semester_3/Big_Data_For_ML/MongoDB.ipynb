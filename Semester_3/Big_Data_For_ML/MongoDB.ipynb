{
 "cells": [
  {
   "cell_type": "code",
   "execution_count": 6,
   "id": "6834f3b2-5938-4994-80e0-0c51a4893bb1",
   "metadata": {},
   "outputs": [
    {
     "data": {
      "text/plain": [
       "InsertManyResult([ObjectId('674330bde35b80e5389564fa')], acknowledged=True)"
      ]
     },
     "execution_count": 6,
     "metadata": {},
     "output_type": "execute_result"
    }
   ],
   "source": [
    "#!pip install pymongo\n",
    "from pymongo import MongoClient\n",
    "from pprint import pprint\n",
    "from random import randint\n",
    "client = MongoClient (\"localhost:27017\")\n",
    "\n",
    "db = client ['local']\n",
    "subjectcollection = db['subject_feedback']\n",
    "\n",
    "subjectlist = []\n",
    "subject_name =['science','socialscience','tamil','english']\n",
    "faculty_name = ['Venkat','Siva','Kumar','Vasu']\n",
    "\n",
    "for x in range(1,4) :\n",
    "    score = {\n",
    "        'name' : subject_name[randint(0, (len(subject_name)-1))],\n",
    "        'rating' : randint (1,5),\n",
    "        'faculty' : faculty_name [randint(0, (len(faculty_name)-1))]\n",
    "    }\n",
    "subjectlist.append(score)\n",
    "subjectcollection.insert_many(subjectlist)"
   ]
  },
  {
   "cell_type": "code",
   "execution_count": null,
   "id": "3220658b-1ebd-4e06-8f2a-1bfabaad4311",
   "metadata": {},
   "outputs": [],
   "source": []
  }
 ],
 "metadata": {
  "kernelspec": {
   "display_name": "Python 3 (ipykernel)",
   "language": "python",
   "name": "python3"
  },
  "language_info": {
   "codemirror_mode": {
    "name": "ipython",
    "version": 3
   },
   "file_extension": ".py",
   "mimetype": "text/x-python",
   "name": "python",
   "nbconvert_exporter": "python",
   "pygments_lexer": "ipython3",
   "version": "3.9.5"
  }
 },
 "nbformat": 4,
 "nbformat_minor": 5
}
