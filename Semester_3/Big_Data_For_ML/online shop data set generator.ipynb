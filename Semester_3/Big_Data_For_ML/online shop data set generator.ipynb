{
 "cells": [
  {
   "cell_type": "code",
   "execution_count": 1,
   "id": "9366fe20-236e-435b-899e-786cd12e50e8",
   "metadata": {},
   "outputs": [
    {
     "name": "stdout",
     "output_type": "stream",
     "text": [
      "Generated dataset with 100 records!\n"
     ]
    }
   ],
   "source": [
    "import pandas as pd\n",
    "import random\n",
    "\n",
    "# Define possible values for each column\n",
    "categories = [\"Electronics\", \"Footwear\", \"HomeAppliance\", \"Clothing\", \"Books\"]\n",
    "product_names = {\n",
    "    \"Electronics\": [\"Smartphone\", \"Laptop\", \"Tablet\", \"Headphones\", \"Smartwatch\"],\n",
    "    \"Footwear\": [\"Sneakers\", \"Sandals\", \"Formal Shoes\", \"Boots\", \"Slippers\"],\n",
    "    \"HomeAppliance\": [\"Microwave\", \"Blender\", \"Air Conditioner\", \"Refrigerator\", \"Washing Machine\"],\n",
    "    \"Clothing\": [\"T-Shirt\", \"Jeans\", \"Jacket\", \"Sweater\", \"Dress\"],\n",
    "    \"Books\": [\"Fiction\", \"Non-Fiction\", \"Science\", \"Biography\", \"Fantasy\"]\n",
    "}\n",
    "\n",
    "# Function to generate random data\n",
    "def generate_data(num_records):\n",
    "    data = []\n",
    "    for i in range(1, num_records + 1):\n",
    "        category = random.choice(categories)\n",
    "        product_name = random.choice(product_names[category])\n",
    "        price = round(random.uniform(10, 2000), 2)\n",
    "        stock = random.randint(1, 500)\n",
    "        description = f\"{product_name} in the {category} category.\"\n",
    "        rating = round(random.uniform(1.0, 5.0), 1)\n",
    "        data.append([i, product_name, category, price, stock, description, rating])\n",
    "    return data\n",
    "\n",
    "# Generate 100,000 records\n",
    "num_records = 100000\n",
    "data = generate_data(num_records)\n",
    "\n",
    "# Create a DataFrame and save to CSV\n",
    "df = pd.DataFrame(data, columns=[\"ProductID\", \"ProductName\", \"Category\", \"Price\", \"Stock\", \"Description\", \"Rating\"])\n",
    "df.to_csv(\"big_online_shopping_dataset.csv\", index=False)\n",
    "\n",
    "print(f\"Generated dataset with {num_records} records!\")\n"
   ]
  },
  {
   "cell_type": "code",
   "execution_count": null,
   "id": "8f0fa189-0ae3-4d0b-80f3-be6624282f4b",
   "metadata": {},
   "outputs": [],
   "source": []
  }
 ],
 "metadata": {
  "kernelspec": {
   "display_name": "Python 3 (ipykernel)",
   "language": "python",
   "name": "python3"
  },
  "language_info": {
   "codemirror_mode": {
    "name": "ipython",
    "version": 3
   },
   "file_extension": ".py",
   "mimetype": "text/x-python",
   "name": "python",
   "nbconvert_exporter": "python",
   "pygments_lexer": "ipython3",
   "version": "3.9.5"
  }
 },
 "nbformat": 4,
 "nbformat_minor": 5
}
