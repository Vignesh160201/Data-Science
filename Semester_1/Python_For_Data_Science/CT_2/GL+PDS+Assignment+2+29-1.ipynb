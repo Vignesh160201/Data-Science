{
 "cells": [
  {
   "cell_type": "code",
   "execution_count": null,
   "id": "9b949514",
   "metadata": {
    "id": "9b949514"
   },
   "outputs": [],
   "source": [
    "import pandas as pd\n",
    "import numpy as np"
   ]
  },
  {
   "cell_type": "raw",
   "id": "5e1b63fd",
   "metadata": {
    "id": "5e1b63fd"
   },
   "source": [
    "1. create the following two dimensional arrays\n",
    "\n",
    "[[1., 0., 0., 0., 0.],\n",
    "       [0., 1., 0., 0., 0.],\n",
    "       [0., 0., 1., 0., 0.],\n",
    "       [0., 0., 0., 1., 0.],\n",
    "       [0., 0., 0., 0., 1.]]\n",
    "2. [[1, 0, 0, 0],\n",
    "       [0, 2, 0, 0],\n",
    "       [0, 0, 3, 0],\n",
    "       [0, 0, 0, 4]]\n",
    "3. Create a checkerboard pattern in an array using row and col slicing\n"
   ]
  },
  {
   "cell_type": "code",
   "execution_count": 1,
   "id": "ecb1ef02",
   "metadata": {},
   "outputs": [
    {
     "name": "stdout",
     "output_type": "stream",
     "text": [
      "[[1. 0. 0. 0. 0.]\n",
      " [0. 1. 0. 0. 0.]\n",
      " [0. 0. 1. 0. 0.]\n",
      " [0. 0. 0. 1. 0.]\n",
      " [0. 0. 0. 0. 1.]]\n"
     ]
    }
   ],
   "source": [
    "import numpy as np\n",
    "\n",
    "# Create a 5x5 identity matrix\n",
    "two_dimensional_array = np.eye(5)\n",
    "\n",
    "print(two_dimensional_array)"
   ]
  },
  {
   "cell_type": "code",
   "execution_count": 2,
   "id": "ad7f605a",
   "metadata": {},
   "outputs": [
    {
     "name": "stdout",
     "output_type": "stream",
     "text": [
      "[[1 0 0 0]\n",
      " [0 2 0 0]\n",
      " [0 0 3 0]\n",
      " [0 0 0 4]]\n"
     ]
    }
   ],
   "source": [
    "import numpy as np\n",
    "\n",
    "# Create a 4x4 diagonal matrix with specified values\n",
    "two_dimensional_array = np.diag([1, 2, 3, 4])\n",
    "\n",
    "print(two_dimensional_array)"
   ]
  },
  {
   "cell_type": "code",
   "execution_count": 3,
   "id": "88ddc3e9",
   "metadata": {},
   "outputs": [
    {
     "name": "stdout",
     "output_type": "stream",
     "text": [
      "[[0 1 0 1 0 1 0 1]\n",
      " [1 0 1 0 1 0 1 0]\n",
      " [0 1 0 1 0 1 0 1]\n",
      " [1 0 1 0 1 0 1 0]\n",
      " [0 1 0 1 0 1 0 1]\n",
      " [1 0 1 0 1 0 1 0]\n",
      " [0 1 0 1 0 1 0 1]\n",
      " [1 0 1 0 1 0 1 0]]\n"
     ]
    }
   ],
   "source": [
    "\n",
    "# Set the size of the checkerboard\n",
    "rows, cols = 8, 8\n",
    "\n",
    "# Create an empty array\n",
    "checkerboard = np.zeros((rows, cols), dtype=int)\n",
    "\n",
    "# Use slicing to set alternating values\n",
    "checkerboard[1::2, ::2] = 1\n",
    "checkerboard[::2, 1::2] = 1\n",
    "\n",
    "print(checkerboard)"
   ]
  },
  {
   "cell_type": "raw",
   "id": "b57ec644",
   "metadata": {
    "id": "b57ec644"
   },
   "source": [
    "4. Compute the no of bytes occupied in the memory for an array of numbers from 1 to 10"
   ]
  },
  {
   "cell_type": "code",
   "execution_count": 4,
   "id": "ac6391f3",
   "metadata": {},
   "outputs": [
    {
     "name": "stdout",
     "output_type": "stream",
     "text": [
      "Number of bytes occupied in memory: 40 bytes\n"
     ]
    }
   ],
   "source": [
    "\n",
    "# Create an array of numbers from 1 to 10\n",
    "arr = np.array([1, 2, 3, 4, 5, 6, 7, 8, 9, 10])\n",
    "\n",
    "# Compute the number of bytes occupied in memory\n",
    "bytes_occupied = arr.nbytes\n",
    "\n",
    "print(f\"Number of bytes occupied in memory: {bytes_occupied} bytes\")"
   ]
  },
  {
   "cell_type": "raw",
   "id": "3b270eab",
   "metadata": {
    "id": "3b270eab"
   },
   "source": [
    "5. img=[[200,210,209],[213,0,214],[214,215,217]]\n",
    "\n",
    "Given a snap shot of the image, estimate the centre pixel with mean,median values."
   ]
  },
  {
   "cell_type": "code",
   "execution_count": 5,
   "id": "fd768089",
   "metadata": {},
   "outputs": [
    {
     "name": "stdout",
     "output_type": "stream",
     "text": [
      "Mean value: 188.0\n",
      "Median value: 213.0\n",
      "Center pixel value: 0\n"
     ]
    }
   ],
   "source": [
    "# Given image snapshot\n",
    "img = np.array([[200, 210, 209],\n",
    "                [213, 0, 214],\n",
    "                [214, 215, 217]])\n",
    "\n",
    "# Calculate mean and median values\n",
    "mean_value = np.mean(img)\n",
    "median_value = np.median(img)\n",
    "\n",
    "# Extract the center pixel value\n",
    "center_pixel_value = img[1, 1]\n",
    "\n",
    "print(f\"Mean value: {mean_value}\")\n",
    "print(f\"Median value: {median_value}\")\n",
    "print(f\"Center pixel value: {center_pixel_value}\")"
   ]
  },
  {
   "cell_type": "raw",
   "id": "0a925b91",
   "metadata": {
    "id": "0a925b91"
   },
   "source": [
    "6. create a Pandas series to store the marks of students and filter the marks >50,>70,>90"
   ]
  },
  {
   "cell_type": "code",
   "execution_count": 7,
   "id": "899299ec",
   "metadata": {},
   "outputs": [
    {
     "name": "stdout",
     "output_type": "stream",
     "text": [
      "Original marks:\n",
      "0    85\n",
      "1    92\n",
      "2    45\n",
      "3    60\n",
      "4    75\n",
      "5    88\n",
      "6    70\n",
      "7    95\n",
      "8    50\n",
      "dtype: int64\n",
      "\n",
      "Marks > 50:\n",
      "0    85\n",
      "1    92\n",
      "3    60\n",
      "4    75\n",
      "5    88\n",
      "6    70\n",
      "7    95\n",
      "dtype: int64\n",
      "\n",
      "Marks > 70:\n",
      "0    85\n",
      "1    92\n",
      "4    75\n",
      "5    88\n",
      "7    95\n",
      "dtype: int64\n",
      "\n",
      "Marks > 90:\n",
      "1    92\n",
      "7    95\n",
      "dtype: int64\n"
     ]
    }
   ],
   "source": [
    "import pandas as pd\n",
    "# Create a Pandas Series with student marks\n",
    "marks = pd.Series([85, 92, 45, 60, 75, 88, 70, 95, 50])\n",
    "\n",
    "# Filter marks based on conditions\n",
    "marks_above_50 = marks[marks > 50]\n",
    "marks_above_70 = marks[marks > 70]\n",
    "marks_above_90 = marks[marks > 90]\n",
    "\n",
    "# Display the results\n",
    "print(\"Original marks:\")\n",
    "print(marks)\n",
    "print(\"\\nMarks > 50:\")\n",
    "print(marks_above_50)\n",
    "print(\"\\nMarks > 70:\")\n",
    "print(marks_above_70)\n",
    "print(\"\\nMarks > 90:\")\n",
    "print(marks_above_90)"
   ]
  },
  {
   "cell_type": "raw",
   "id": "b023f3a9",
   "metadata": {
    "id": "b023f3a9"
   },
   "source": [
    "7.Create data frame given below to store student info from the numpy arrays defined"
   ]
  },
  {
   "cell_type": "code",
   "execution_count": 8,
   "id": "1e22d97a",
   "metadata": {},
   "outputs": [
    {
     "name": "stdout",
     "output_type": "stream",
     "text": [
      "      Name  Score Grade\n",
      "0    Alice     85     A\n",
      "1      Bob     92     A\n",
      "2  Charlie     78     B\n",
      "3    David     65     C\n"
     ]
    }
   ],
   "source": [
    "student_names = np.array(['Alice', 'Bob', 'Charlie', 'David'])\n",
    "student_scores = np.array([85, 92, 78, 65])\n",
    "student_grades = np.array(['A', 'A', 'B', 'C'])\n",
    "\n",
    "# Create a data frame\n",
    "student_df = pd.DataFrame({\n",
    "    'Name': student_names,\n",
    "    'Score': student_scores,\n",
    "    'Grade': student_grades\n",
    "})\n",
    "\n",
    "# Display the data frame\n",
    "print(student_df)"
   ]
  },
  {
   "cell_type": "code",
   "execution_count": null,
   "id": "d9e17aa8",
   "metadata": {
    "id": "d9e17aa8",
    "outputId": "a3cb33b5-36d9-4f23-87d0-bdc14aae388c"
   },
   "outputs": [
    {
     "data": {
      "text/html": [
       "<div>\n",
       "<style scoped>\n",
       "    .dataframe tbody tr th:only-of-type {\n",
       "        vertical-align: middle;\n",
       "    }\n",
       "\n",
       "    .dataframe tbody tr th {\n",
       "        vertical-align: top;\n",
       "    }\n",
       "\n",
       "    .dataframe thead th {\n",
       "        text-align: right;\n",
       "    }\n",
       "</style>\n",
       "<table border=\"1\" class=\"dataframe\">\n",
       "  <thead>\n",
       "    <tr style=\"text-align: right;\">\n",
       "      <th></th>\n",
       "      <th>age</th>\n",
       "      <th>gender</th>\n",
       "      <th>state</th>\n",
       "      <th>cgpa</th>\n",
       "    </tr>\n",
       "  </thead>\n",
       "  <tbody>\n",
       "    <tr>\n",
       "      <th>kevin</th>\n",
       "      <td>23</td>\n",
       "      <td>m</td>\n",
       "      <td>TN</td>\n",
       "      <td>9</td>\n",
       "    </tr>\n",
       "    <tr>\n",
       "      <th>john</th>\n",
       "      <td>21</td>\n",
       "      <td>m</td>\n",
       "      <td>KL</td>\n",
       "      <td>8</td>\n",
       "    </tr>\n",
       "    <tr>\n",
       "      <th>hari</th>\n",
       "      <td>22</td>\n",
       "      <td>f</td>\n",
       "      <td>KN</td>\n",
       "      <td>7</td>\n",
       "    </tr>\n",
       "  </tbody>\n",
       "</table>\n",
       "</div>"
      ],
      "text/plain": [
       "       age gender state  cgpa\n",
       "kevin   23      m    TN     9\n",
       "john    21      m    KL     8\n",
       "hari    22      f    KN     7"
      ]
     },
     "execution_count": 8,
     "metadata": {},
     "output_type": "execute_result"
    }
   ],
   "source": [
    "name=np.array(['kevin','john','hari'])\n",
    "age=np.array([23,21,22])\n",
    "gender=np.array(['m','m','f'])\n",
    "state=np.array(['TN','KL','KN'])\n",
    "cgpa=np.array([9,8,7])"
   ]
  },
  {
   "cell_type": "raw",
   "id": "8471b19c",
   "metadata": {
    "id": "8471b19c"
   },
   "source": [
    "'''\n",
    "    1.Filter the age\n",
    "    2.filter age,cgpa\n",
    "    3.Filter age>22\n",
    "    4.names starts with j\n",
    "    5.names contains 'n'\n",
    "    '''"
   ]
  },
  {
   "cell_type": "code",
   "execution_count": 11,
   "id": "ac0fbfc8",
   "metadata": {},
   "outputs": [
    {
     "name": "stdout",
     "output_type": "stream",
     "text": [
      "Original DataFrame:\n",
      "    Name  Age Gender State  CGPA\n",
      "0  kevin   23      m    TN     9\n",
      "1   john   21      m    KL     8\n",
      "2   hari   22      f    KN     7\n",
      "\n",
      "1. Filtered Age:\n",
      "0    23\n",
      "1    21\n",
      "2    22\n",
      "Name: Age, dtype: int32\n",
      "\n",
      "2. Filtered Age and CGPA:\n",
      "   Age  CGPA\n",
      "0   23     9\n",
      "1   21     8\n",
      "2   22     7\n",
      "\n",
      "3. Filtered Age > 22:\n",
      "    Name  Age Gender State  CGPA\n",
      "0  kevin   23      m    TN     9\n",
      "\n",
      "4. Names starts with 'j':\n",
      "   Name  Age Gender State  CGPA\n",
      "1  john   21      m    KL     8\n",
      "\n",
      "5. Names contain 'n':\n",
      "    Name  Age Gender State  CGPA\n",
      "0  kevin   23      m    TN     9\n",
      "1   john   21      m    KL     8\n"
     ]
    }
   ],
   "source": [
    "\n",
    "# Given data in NumPy arrays\n",
    "name = np.array(['kevin', 'john', 'hari'])\n",
    "age = np.array([23, 21, 22])\n",
    "gender = np.array(['m', 'm', 'f'])\n",
    "state = np.array(['TN', 'KL', 'KN'])\n",
    "cgpa = np.array([9, 8, 7])\n",
    "\n",
    "# Create a Pandas DataFrame\n",
    "df = pd.DataFrame({\n",
    "    'Name': name,\n",
    "    'Age': age,\n",
    "    'Gender': gender,\n",
    "    'State': state,\n",
    "    'CGPA': cgpa\n",
    "})\n",
    "\n",
    "# 1. Filter the age\n",
    "age_filter = df['Age']\n",
    "\n",
    "# 2. Filter age, cgpa\n",
    "age_cgpa_filter = df[['Age', 'CGPA']]\n",
    "\n",
    "# 3. Filter age > 22\n",
    "age_above_22_filter = df[df['Age'] > 22]\n",
    "\n",
    "# 4. Names starts with 'j'\n",
    "names_starts_with_j = df[df['Name'].str.startswith('j')]\n",
    "\n",
    "# 5. Names contain 'n'\n",
    "names_contain_n = df[df['Name'].str.contains('n')]\n",
    "\n",
    "# Display the results\n",
    "print(\"Original DataFrame:\")\n",
    "print(df)\n",
    "print(\"\\n1. Filtered Age:\")\n",
    "print(age_filter)\n",
    "print(\"\\n2. Filtered Age and CGPA:\")\n",
    "print(age_cgpa_filter)\n",
    "print(\"\\n3. Filtered Age > 22:\")\n",
    "print(age_above_22_filter)\n",
    "print(\"\\n4. Names starts with 'j':\")\n",
    "print(names_starts_with_j)\n",
    "print(\"\\n5. Names contain 'n':\")\n",
    "print(names_contain_n)"
   ]
  },
  {
   "cell_type": "raw",
   "id": "9122528b",
   "metadata": {
    "id": "9122528b"
   },
   "source": [
    "8. Given the two data frames,\n",
    "dfr1=pd.DataFrame({'Id':[1,2,3,5,9],\n",
    "                    'Col1':[1,2,3,4,5],\n",
    "                     'col2':[6,7,8,9,10],\n",
    "                      'col4':['apple','orange','banana','strawberry','rasberry']})\n",
    "  dfr2=pd.DataFrame({'Id':[1,1,3,5],\n",
    "                    'ColA':[8,9,10,11],\n",
    "                     'colB':[12,13,15,17],\n",
    "                      'col4':['apple','orange','banana','kiwi']})\n",
    "\n",
    "Perform left, right and inner join on the dataframes"
   ]
  },
  {
   "cell_type": "code",
   "execution_count": 12,
   "id": "e9d69200",
   "metadata": {},
   "outputs": [
    {
     "name": "stdout",
     "output_type": "stream",
     "text": [
      "Left Join:\n",
      "   Id  Col1  col2   col4_dfr1  ColA  colB col4_dfr2\n",
      "0   1     1     6       apple   8.0  12.0     apple\n",
      "1   1     1     6       apple   9.0  13.0    orange\n",
      "2   2     2     7      orange   NaN   NaN       NaN\n",
      "3   3     3     8      banana  10.0  15.0    banana\n",
      "4   5     4     9  strawberry  11.0  17.0      kiwi\n",
      "5   9     5    10   raspberry   NaN   NaN       NaN\n",
      "\n",
      "Right Join:\n",
      "   Id  Col1  col2   col4_dfr1  ColA  colB col4_dfr2\n",
      "0   1     1     6       apple     8    12     apple\n",
      "1   1     1     6       apple     9    13    orange\n",
      "2   3     3     8      banana    10    15    banana\n",
      "3   5     4     9  strawberry    11    17      kiwi\n",
      "\n",
      "Inner Join:\n",
      "   Id  Col1  col2   col4_dfr1  ColA  colB col4_dfr2\n",
      "0   1     1     6       apple     8    12     apple\n",
      "1   1     1     6       apple     9    13    orange\n",
      "2   3     3     8      banana    10    15    banana\n",
      "3   5     4     9  strawberry    11    17      kiwi\n"
     ]
    }
   ],
   "source": [
    "import pandas as pd\n",
    "\n",
    "# Given dataframes\n",
    "dfr1 = pd.DataFrame({'Id':[1,2,3,5,9],\n",
    "                    'Col1':[1,2,3,4,5],\n",
    "                    'col2':[6,7,8,9,10],\n",
    "                    'col4':['apple','orange','banana','strawberry','raspberry']})\n",
    "\n",
    "dfr2 = pd.DataFrame({'Id':[1,1,3,5],\n",
    "                    'ColA':[8,9,10,11],\n",
    "                    'colB':[12,13,15,17],\n",
    "                    'col4':['apple','orange','banana','kiwi']})\n",
    "\n",
    "# Perform left join\n",
    "left_join = pd.merge(dfr1, dfr2, on='Id', how='left', suffixes=('_dfr1', '_dfr2'))\n",
    "\n",
    "# Perform right join\n",
    "right_join = pd.merge(dfr1, dfr2, on='Id', how='right', suffixes=('_dfr1', '_dfr2'))\n",
    "\n",
    "# Perform inner join\n",
    "inner_join = pd.merge(dfr1, dfr2, on='Id', how='inner', suffixes=('_dfr1', '_dfr2'))\n",
    "\n",
    "# Display the results\n",
    "print(\"Left Join:\")\n",
    "print(left_join)\n",
    "\n",
    "print(\"\\nRight Join:\")\n",
    "print(right_join)\n",
    "\n",
    "print(\"\\nInner Join:\")\n",
    "print(inner_join)\n"
   ]
  },
  {
   "cell_type": "raw",
   "id": "4b9e73eb",
   "metadata": {
    "id": "4b9e73eb"
   },
   "source": [
    "9. Apply sigmoid function to the array [2,5,6]\n",
    "1.define sigmoid function\n",
    "2.create the np array\n",
    "3.Apply the function to the array"
   ]
  },
  {
   "cell_type": "code",
   "execution_count": 13,
   "id": "ab55119f",
   "metadata": {},
   "outputs": [
    {
     "name": "stdout",
     "output_type": "stream",
     "text": [
      "Original Array: [2 5 6]\n",
      "Result after applying sigmoid function: [0.88079708 0.99330715 0.99752738]\n"
     ]
    }
   ],
   "source": [
    "import numpy as np\n",
    "\n",
    "# 1. Define sigmoid function\n",
    "def sigmoid(x):\n",
    "    return 1 / (1 + np.exp(-x))\n",
    "\n",
    "# 2. Create the NumPy array\n",
    "input_array = np.array([2, 5, 6])\n",
    "\n",
    "# 3. Apply the sigmoid function to the array\n",
    "result = sigmoid(input_array)\n",
    "\n",
    "# Display the results\n",
    "print(\"Original Array:\", input_array)\n",
    "print(\"Result after applying sigmoid function:\", result)"
   ]
  },
  {
   "cell_type": "code",
   "execution_count": null,
   "id": "79e94cd2",
   "metadata": {},
   "outputs": [],
   "source": []
  }
 ],
 "metadata": {
  "colab": {
   "provenance": []
  },
  "kernelspec": {
   "display_name": "Python 3 (ipykernel)",
   "language": "python",
   "name": "python3"
  },
  "language_info": {
   "codemirror_mode": {
    "name": "ipython",
    "version": 3
   },
   "file_extension": ".py",
   "mimetype": "text/x-python",
   "name": "python",
   "nbconvert_exporter": "python",
   "pygments_lexer": "ipython3",
   "version": "3.11.3"
  }
 },
 "nbformat": 4,
 "nbformat_minor": 5
}
