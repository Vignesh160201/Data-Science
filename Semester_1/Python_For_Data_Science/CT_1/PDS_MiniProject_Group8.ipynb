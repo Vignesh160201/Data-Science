{
 "cells": [
  {
   "cell_type": "markdown",
   "id": "142c9c48",
   "metadata": {},
   "source": [
    "## Q1.Given the sets of events\n",
    "\n",
    "sports_winners = set([\"Jake\", \"John\",\"Eric\",\"Geetha\",\"Femi\",\"Kala\"])\n",
    "quiz_winners = set([\"John\", \"Jill\",\"Eric\",\"Geetha\",\"Femi\"])\n",
    "1. print the winners who got sports prize and quiz prize"
   ]
  },
  {
   "cell_type": "code",
   "execution_count": 2,
   "id": "81255267",
   "metadata": {},
   "outputs": [],
   "source": [
    "sports_winners = set([\"Jake\", \"John\",\"Eric\",\"Geetha\",\"Femi\",\"Kala\"])\n",
    "quiz_winners = set([\"John\", \"Jill\",\"Eric\",\"Geetha\",\"Femi\"])"
   ]
  },
  {
   "cell_type": "code",
   "execution_count": 3,
   "id": "f5860f29",
   "metadata": {},
   "outputs": [
    {
     "name": "stdout",
     "output_type": "stream",
     "text": [
      "{'John', 'Geetha', 'Eric', 'Femi'}\n"
     ]
    }
   ],
   "source": [
    "print (sports_winners & quiz_winners)"
   ]
  },
  {
   "cell_type": "markdown",
   "id": "a64e96ef",
   "metadata": {},
   "source": [
    "2. print the winners who got sports prize and not quiz prize"
   ]
  },
  {
   "cell_type": "code",
   "execution_count": 4,
   "id": "6190d2c7",
   "metadata": {},
   "outputs": [
    {
     "name": "stdout",
     "output_type": "stream",
     "text": [
      "{'Jake', 'Kala'}\n"
     ]
    }
   ],
   "source": [
    "print(sports_winners - quiz_winners)"
   ]
  },
  {
   "cell_type": "markdown",
   "id": "24aaafc6",
   "metadata": {},
   "source": [
    "3. print the winners who either sports prize or quiz prize"
   ]
  },
  {
   "cell_type": "code",
   "execution_count": 5,
   "id": "ffc0412d",
   "metadata": {},
   "outputs": [
    {
     "name": "stdout",
     "output_type": "stream",
     "text": [
      "{'Jake', 'Jill', 'Kala', 'John', 'Femi', 'Eric', 'Geetha'}\n"
     ]
    }
   ],
   "source": [
    "print (sports_winners.union(quiz_winners))"
   ]
  },
  {
   "cell_type": "markdown",
   "id": "6b49933f",
   "metadata": {},
   "source": [
    "4. print the winners who got quize prize and not sports prize"
   ]
  },
  {
   "cell_type": "code",
   "execution_count": 6,
   "id": "c36dcf3a",
   "metadata": {},
   "outputs": [
    {
     "name": "stdout",
     "output_type": "stream",
     "text": [
      "{'Jill'}\n"
     ]
    }
   ],
   "source": [
    "print(quiz_winners - sports_winners)"
   ]
  },
  {
   "cell_type": "markdown",
   "id": "cb716846",
   "metadata": {},
   "source": [
    "## Question 2:\n",
    "Consider the set with some integers given below\n",
    "myset = {12,34,56,3,45,67,89,1,6}"
   ]
  },
  {
   "cell_type": "markdown",
   "id": "a9516f31",
   "metadata": {},
   "source": [
    "1. Create set by filtering even numbers\n"
   ]
  },
  {
   "cell_type": "code",
   "execution_count": 12,
   "id": "cf0e1374",
   "metadata": {},
   "outputs": [],
   "source": [
    "myset = set([12,34,56,3,45,67,89,1,6])"
   ]
  },
  {
   "cell_type": "code",
   "execution_count": 13,
   "id": "eb4968fd",
   "metadata": {},
   "outputs": [],
   "source": [
    "myset1=set([])"
   ]
  },
  {
   "cell_type": "code",
   "execution_count": 14,
   "id": "7fc4bf53",
   "metadata": {},
   "outputs": [],
   "source": [
    "myset2=set([])"
   ]
  },
  {
   "cell_type": "code",
   "execution_count": 15,
   "id": "7a19541f",
   "metadata": {},
   "outputs": [],
   "source": [
    "for val in myset:\n",
    "    if val%2==0:\n",
    "        myset1.add(val)\n",
    "    else:\n",
    "        myset2.add(val)"
   ]
  },
  {
   "cell_type": "code",
   "execution_count": 16,
   "id": "712ae704",
   "metadata": {},
   "outputs": [
    {
     "name": "stdout",
     "output_type": "stream",
     "text": [
      "{56, 34, 12, 6}\n"
     ]
    }
   ],
   "source": [
    "print(myset1)"
   ]
  },
  {
   "cell_type": "markdown",
   "id": "a1c7e920",
   "metadata": {},
   "source": [
    "2.Create set by filtering odd numbers"
   ]
  },
  {
   "cell_type": "code",
   "execution_count": 17,
   "id": "e41cad61",
   "metadata": {},
   "outputs": [
    {
     "name": "stdout",
     "output_type": "stream",
     "text": [
      "{1, 67, 3, 45, 89}\n"
     ]
    }
   ],
   "source": [
    "print(myset2)"
   ]
  },
  {
   "cell_type": "markdown",
   "id": "35fa6ade",
   "metadata": {},
   "source": [
    "3. Create set by filtering numbers>20"
   ]
  },
  {
   "cell_type": "code",
   "execution_count": 19,
   "id": "7a1d7d02",
   "metadata": {},
   "outputs": [],
   "source": [
    "myset3=set([])"
   ]
  },
  {
   "cell_type": "code",
   "execution_count": 20,
   "id": "fe4ba25b",
   "metadata": {},
   "outputs": [],
   "source": [
    "for val in myset:\n",
    "    if val>20:\n",
    "        myset3.add(val)"
   ]
  },
  {
   "cell_type": "code",
   "execution_count": 21,
   "id": "ec993010",
   "metadata": {},
   "outputs": [
    {
     "name": "stdout",
     "output_type": "stream",
     "text": [
      "{34, 67, 45, 56, 89}\n"
     ]
    }
   ],
   "source": [
    "print(myset3)"
   ]
  },
  {
   "cell_type": "markdown",
   "id": "a4263ff7",
   "metadata": {},
   "source": [
    "4. remove the item 56 and create a new set"
   ]
  },
  {
   "cell_type": "code",
   "execution_count": 28,
   "id": "8433fcf4",
   "metadata": {},
   "outputs": [],
   "source": [
    "myset.remove(56)"
   ]
  },
  {
   "cell_type": "code",
   "execution_count": 29,
   "id": "515cbd12",
   "metadata": {},
   "outputs": [],
   "source": [
    "myset4=myset"
   ]
  },
  {
   "cell_type": "markdown",
   "id": "10658c24",
   "metadata": {},
   "source": [
    "5. state the difference between remove() & discard() on the set.\n"
   ]
  },
  {
   "cell_type": "markdown",
   "id": "65527c14",
   "metadata": {},
   "source": [
    "The discard() method removes the specified item from the set. This method is different from the remove() method, because the remove() method will raise an error if the specified item does not exist, and the discard() method will not."
   ]
  },
  {
   "cell_type": "markdown",
   "id": "2d082648",
   "metadata": {},
   "source": [
    "## Question 3:\n",
    "Date and Time"
   ]
  },
  {
   "cell_type": "markdown",
   "id": "180c6035",
   "metadata": {},
   "source": [
    "1. Print the Date after 1 week and 6 days from the current date"
   ]
  },
  {
   "cell_type": "code",
   "execution_count": 2,
   "id": "8e52fc2e",
   "metadata": {},
   "outputs": [],
   "source": [
    "import datetime"
   ]
  },
  {
   "cell_type": "code",
   "execution_count": 5,
   "id": "c194fc40",
   "metadata": {},
   "outputs": [],
   "source": [
    "current_date = datetime.date.today()"
   ]
  },
  {
   "cell_type": "code",
   "execution_count": 14,
   "id": "b4b99035",
   "metadata": {},
   "outputs": [],
   "source": [
    "from datetime import timedelta"
   ]
  },
  {
   "cell_type": "code",
   "execution_count": 15,
   "id": "676d6efe",
   "metadata": {},
   "outputs": [],
   "source": [
    "new_date=current_date+timedelta(days=13)"
   ]
  },
  {
   "cell_type": "code",
   "execution_count": 17,
   "id": "53575444",
   "metadata": {},
   "outputs": [
    {
     "name": "stdout",
     "output_type": "stream",
     "text": [
      "2023-10-11\n"
     ]
    }
   ],
   "source": [
    "print(new_date)"
   ]
  },
  {
   "cell_type": "markdown",
   "id": "42f158e6",
   "metadata": {},
   "source": [
    "2. Given the birthday as date(2000,10,2), find the age"
   ]
  },
  {
   "cell_type": "code",
   "execution_count": 21,
   "id": "d359bdc1",
   "metadata": {},
   "outputs": [],
   "source": [
    "birthday=date(2000,10,2)"
   ]
  },
  {
   "cell_type": "code",
   "execution_count": 22,
   "id": "9a3505fb",
   "metadata": {},
   "outputs": [],
   "source": [
    "Age=current_date-birthday"
   ]
  },
  {
   "cell_type": "code",
   "execution_count": 30,
   "id": "0a8c47e4",
   "metadata": {},
   "outputs": [],
   "source": [
    "Age=Age.total_seconds()"
   ]
  },
  {
   "cell_type": "code",
   "execution_count": 31,
   "id": "5ccc5cbc",
   "metadata": {},
   "outputs": [],
   "source": [
    "Age=Age/(365.25*24*60*60)"
   ]
  },
  {
   "cell_type": "code",
   "execution_count": 32,
   "id": "097bb385",
   "metadata": {},
   "outputs": [
    {
     "data": {
      "text/plain": [
       "22.986995208761122"
      ]
     },
     "execution_count": 32,
     "metadata": {},
     "output_type": "execute_result"
    }
   ],
   "source": [
    "Age"
   ]
  },
  {
   "cell_type": "markdown",
   "id": "8a31ff73",
   "metadata": {},
   "source": [
    "3. Subtract five days from the current date and display it."
   ]
  },
  {
   "cell_type": "code",
   "execution_count": 34,
   "id": "4de8dbe7",
   "metadata": {},
   "outputs": [],
   "source": [
    "Day5minus=current_date-timedelta(days=5)"
   ]
  },
  {
   "cell_type": "code",
   "execution_count": 36,
   "id": "3e7a1e62",
   "metadata": {},
   "outputs": [
    {
     "name": "stdout",
     "output_type": "stream",
     "text": [
      "2023-09-23\n"
     ]
    }
   ],
   "source": [
    "print(Day5minus)"
   ]
  },
  {
   "cell_type": "markdown",
   "id": "566c0894",
   "metadata": {},
   "source": [
    "4. Display the dates of yesterday, today and tomorrow\n"
   ]
  },
  {
   "cell_type": "code",
   "execution_count": 37,
   "id": "80475fb8",
   "metadata": {},
   "outputs": [],
   "source": [
    "yesterday=current_date-timedelta(days=1)"
   ]
  },
  {
   "cell_type": "code",
   "execution_count": 38,
   "id": "2c58297a",
   "metadata": {},
   "outputs": [
    {
     "name": "stdout",
     "output_type": "stream",
     "text": [
      "2023-09-27\n"
     ]
    }
   ],
   "source": [
    "print(yesterday)"
   ]
  },
  {
   "cell_type": "code",
   "execution_count": 39,
   "id": "54f57391",
   "metadata": {},
   "outputs": [],
   "source": [
    "tomorrow=current_date+timedelta(days=1)"
   ]
  },
  {
   "cell_type": "code",
   "execution_count": 40,
   "id": "b64f5aef",
   "metadata": {},
   "outputs": [
    {
     "name": "stdout",
     "output_type": "stream",
     "text": [
      "2023-09-29\n"
     ]
    }
   ],
   "source": [
    "print(tomorrow)"
   ]
  },
  {
   "cell_type": "code",
   "execution_count": 41,
   "id": "e932a64b",
   "metadata": {},
   "outputs": [
    {
     "name": "stdout",
     "output_type": "stream",
     "text": [
      "2023-09-28\n"
     ]
    }
   ],
   "source": [
    "print(current_date)"
   ]
  },
  {
   "cell_type": "markdown",
   "id": "f9ffda8e",
   "metadata": {},
   "source": [
    "## Question 4:\n",
    "Consider the folowing strings, string1=\"Great\", string2=\"Learning\" and string3=\"Python\".\n",
    "Perform the following operations on the given strings"
   ]
  },
  {
   "cell_type": "code",
   "execution_count": 44,
   "id": "82bad803",
   "metadata": {},
   "outputs": [],
   "source": [
    "string1=\"Great\"\n",
    "string2=\"Learning\"\n",
    "string3=\"Python\""
   ]
  },
  {
   "cell_type": "markdown",
   "id": "b4dae721",
   "metadata": {},
   "source": [
    "a. Concatenate them to create a single string called \"single_string\""
   ]
  },
  {
   "cell_type": "code",
   "execution_count": 46,
   "id": "f6afd713",
   "metadata": {},
   "outputs": [],
   "source": [
    "single_string=string1+string2+string3"
   ]
  },
  {
   "cell_type": "code",
   "execution_count": 47,
   "id": "4815629d",
   "metadata": {},
   "outputs": [
    {
     "data": {
      "text/plain": [
       "'GreatLearningPython'"
      ]
     },
     "execution_count": 47,
     "metadata": {},
     "output_type": "execute_result"
    }
   ],
   "source": [
    "single_string"
   ]
  },
  {
   "cell_type": "markdown",
   "id": "378e8dee",
   "metadata": {},
   "source": [
    "b. Access and print the first and last characters of \"single_string\""
   ]
  },
  {
   "cell_type": "code",
   "execution_count": 49,
   "id": "fa83c344",
   "metadata": {},
   "outputs": [
    {
     "data": {
      "text/plain": [
       "'G'"
      ]
     },
     "execution_count": 49,
     "metadata": {},
     "output_type": "execute_result"
    }
   ],
   "source": [
    "single_string[0]"
   ]
  },
  {
   "cell_type": "code",
   "execution_count": 50,
   "id": "cdb2286a",
   "metadata": {},
   "outputs": [
    {
     "data": {
      "text/plain": [
       "'n'"
      ]
     },
     "execution_count": 50,
     "metadata": {},
     "output_type": "execute_result"
    }
   ],
   "source": [
    "single_string[-1]"
   ]
  },
  {
   "cell_type": "markdown",
   "id": "698375f3",
   "metadata": {},
   "source": [
    "c. Reverse the \"single_string\" and save it in \"rev_string\" "
   ]
  },
  {
   "cell_type": "code",
   "execution_count": 51,
   "id": "e3a3efd0",
   "metadata": {},
   "outputs": [],
   "source": [
    "rev_string=single_string[::-1]"
   ]
  },
  {
   "cell_type": "code",
   "execution_count": 52,
   "id": "945448aa",
   "metadata": {},
   "outputs": [
    {
     "data": {
      "text/plain": [
       "'nohtyPgninraeLtaerG'"
      ]
     },
     "execution_count": 52,
     "metadata": {},
     "output_type": "execute_result"
    }
   ],
   "source": [
    "rev_string"
   ]
  },
  {
   "cell_type": "markdown",
   "id": "56b3c537",
   "metadata": {},
   "source": [
    "d. Extract the word \"Learning\" from \"single_string\""
   ]
  },
  {
   "cell_type": "code",
   "execution_count": 56,
   "id": "1dedc0c2",
   "metadata": {},
   "outputs": [],
   "source": [
    "sub_string=single_string[5:13]"
   ]
  },
  {
   "cell_type": "code",
   "execution_count": 57,
   "id": "70103df3",
   "metadata": {},
   "outputs": [
    {
     "data": {
      "text/plain": [
       "'Learning'"
      ]
     },
     "execution_count": 57,
     "metadata": {},
     "output_type": "execute_result"
    }
   ],
   "source": [
    "sub_string"
   ]
  },
  {
   "cell_type": "markdown",
   "id": "9ee329e4",
   "metadata": {},
   "source": [
    "## Question 5:"
   ]
  },
  {
   "cell_type": "code",
   "execution_count": 19,
   "id": "f69e51f5",
   "metadata": {},
   "outputs": [
    {
     "data": {
      "text/plain": [
       "'Consider the given sentence \"Hello! Great Learning. Now start learning Python.\"\\na. In the given sentence where is the word \"Learning\"?:\\nb. In the given sentence where is the first occurrence of the letter \"e\"?:\\nc. In the given sentence where is the first occurrence of the letter \"e\" when you only search\\nbetween position 5 and 10?:\\nd. Display the list of words in the sentence\\n'"
      ]
     },
     "execution_count": 19,
     "metadata": {},
     "output_type": "execute_result"
    }
   ],
   "source": [
    "\"\"\"Consider the given sentence \"Hello! Great Learning. Now start learning Python.\"\n",
    "a. In the given sentence where is the word \"Learning\"?:\n",
    "b. In the given sentence where is the first occurrence of the letter \"e\"?:\n",
    "c. In the given sentence where is the first occurrence of the letter \"e\" when you only search\n",
    "between position 5 and 10?:\n",
    "d. Display the list of words in the sentence\n",
    "\"\"\""
   ]
  },
  {
   "cell_type": "code",
   "execution_count": 6,
   "id": "17ba3545",
   "metadata": {},
   "outputs": [
    {
     "name": "stdout",
     "output_type": "stream",
     "text": [
      "13\n",
      "1\n",
      "9\n",
      "['Hello!', 'Great', 'Learning.', 'Now', 'start', 'learning', 'Python.']\n"
     ]
    }
   ],
   "source": [
    "#Question 5:\n",
    "\n",
    "#Consider the given sentence \"Hello! Great Learning. Now start learning Python.\"\n",
    "sentense=\"Hello! Great Learning. Now start learning Python.\"\n",
    "\n",
    "#a. In the given sentence where is the word \"Learning\"?:\n",
    "\n",
    "print(sentense.index('Learning'))\n",
    "\n",
    "#b. In the given sentence where is the first occurrence of the letter \"e\"?:\n",
    "print(sentense.index('e'))\n",
    "\n",
    "#c. In the given sentence where is the first occurrence of the letter \"e\" when you only search\n",
    "#between position 5 and 10?:\n",
    "print(sentense.index('e',5,10))\n",
    "\n",
    "#d. Display the list of words in the sentence\n",
    "print(sentense.split())"
   ]
  },
  {
   "cell_type": "markdown",
   "id": "568ac044",
   "metadata": {},
   "source": [
    "## Question 6:"
   ]
  },
  {
   "cell_type": "code",
   "execution_count": 7,
   "id": "973f5cb3",
   "metadata": {},
   "outputs": [
    {
     "data": {
      "text/plain": [
       "'\"\\nQuestion 6:\\nBuild a program that analyzes a text document (a long string) and uses a dictionary to count the\\nfrequency of each word. You can then display the 5 most common words and their counts.\\n'"
      ]
     },
     "execution_count": 7,
     "metadata": {},
     "output_type": "execute_result"
    }
   ],
   "source": [
    "\"\"\"\"\n",
    "Question 6:\n",
    "Build a program that analyzes a text document (a long string) and uses a dictionary to count the\n",
    "frequency of each word. You can then display the 5 most common words and their counts.\n",
    "\"\"\""
   ]
  },
  {
   "cell_type": "code",
   "execution_count": 8,
   "id": "616e0f4a",
   "metadata": {},
   "outputs": [
    {
     "name": "stdout",
     "output_type": "stream",
     "text": [
      "the : 3\n",
      "sample : 2\n",
      "text : 2\n",
      "words : 2\n",
      "will : 2\n"
     ]
    }
   ],
   "source": [
    "def Analyzetext(txt):\n",
    "    dict_text_document={}\n",
    "    for word in txt.split():\n",
    "        dict_text_document[word]=dict_text_document.setdefault(word,0)+1\n",
    "        \n",
    "     #print(dict_text_document)\n",
    "    sorted_dict = dict(sorted(dict_text_document.items(), reverse=True,key=lambda item: item[1]))\n",
    "    return sorted_dict\n",
    "     \n",
    "text_document = \"\"\"\n",
    "This is a sample text document. It contains some sample words that will be counted to find the most common words. \n",
    "The program will analyze the text and display the top 5 most common words and their counts.\n",
    "\"\"\"\n",
    "output=Analyzetext(text_document)\n",
    "count=0\n",
    "for key,values in output.items():\n",
    "    print(key,':',values)\n",
    "    count=count+1\n",
    "    if count==5:\n",
    "        break"
   ]
  },
  {
   "cell_type": "markdown",
   "id": "8e01db67",
   "metadata": {},
   "source": [
    "## Question 7:"
   ]
  },
  {
   "cell_type": "code",
   "execution_count": 9,
   "id": "f505ca49",
   "metadata": {},
   "outputs": [
    {
     "data": {
      "text/plain": [
       "'\\nQuestion 7:\\nGiven a list of tuples, consisting of employee_name and total_bonus_points. Find the best 3\\nemployees who are having the highest score. Write a function find_best_employer, which takes\\nthe list of tuples as argument and prints the names of top three employees\\nSample Input:\\n[(‘Sanju’,321), (‘Reva’,671), (‘Darvin’,233), (‘Velan’,922), (’Satya’,223), (‘Vanathi’,102)]\\nExpected Output:\\nThe top three employees for the year are Velan, Reva and Sanju\\n'"
      ]
     },
     "execution_count": 9,
     "metadata": {},
     "output_type": "execute_result"
    }
   ],
   "source": [
    "\"\"\"\n",
    "Question 7:\n",
    "Given a list of tuples, consisting of employee_name and total_bonus_points. Find the best 3\n",
    "employees who are having the highest score. Write a function find_best_employer, which takes\n",
    "the list of tuples as argument and prints the names of top three employees\n",
    "Sample Input:\n",
    "[(‘Sanju’,321), (‘Reva’,671), (‘Darvin’,233), (‘Velan’,922), (’Satya’,223), (‘Vanathi’,102)]\n",
    "Expected Output:\n",
    "The top three employees for the year are Velan, Reva and Sanju\n",
    "\"\"\""
   ]
  },
  {
   "cell_type": "code",
   "execution_count": 10,
   "id": "72db1625",
   "metadata": {},
   "outputs": [],
   "source": [
    "#Question 7:\n",
    "#Given a list of tuples, consisting of employee_name and total_bonus_points. Find the best 3\n",
    "#employees who are having the highest score. Write a function find_best_employer, which takes\n",
    "#the list of tuples as argument and prints the names of top three employees\n",
    "#Sample Input:\n",
    "#[(‘Sanju’,321), (‘Reva’,671), (‘Darvin’,233), (‘Velan’,922), (’Satya’,223), (‘Vanathi’,102)]\n",
    "#Expected Output:\n",
    "#The top three employees for the year are Velan, Reva and Sanju"
   ]
  },
  {
   "cell_type": "code",
   "execution_count": 11,
   "id": "dc710fea",
   "metadata": {},
   "outputs": [
    {
     "name": "stdout",
     "output_type": "stream",
     "text": [
      "The top three employees for the year are Velan, Reva, and Sanju\n"
     ]
    }
   ],
   "source": [
    "def find_best_employer(employee_lst):\n",
    "    employee_lst.sort(reverse=True,key=lambda x: x[1])\n",
    "    if len(employee_lst) >= 3:\n",
    "        return print(f\"The top three employees for the year are {employee_lst[0][0]}, {employee_lst[1][0]}, and {employee_lst[2][0]}\")\n",
    "\n",
    "employees = [('Sanju',321), ('Reva',671), ('Darvin',233), ('Velan',922), ('Satya',223), ('Vanathi',102)]\n",
    "\n",
    "find_best_employer(employees)"
   ]
  },
  {
   "cell_type": "code",
   "execution_count": null,
   "id": "8405cc0e",
   "metadata": {},
   "outputs": [],
   "source": []
  }
 ],
 "metadata": {
  "kernelspec": {
   "display_name": "Python 3 (ipykernel)",
   "language": "python",
   "name": "python3"
  },
  "language_info": {
   "codemirror_mode": {
    "name": "ipython",
    "version": 3
   },
   "file_extension": ".py",
   "mimetype": "text/x-python",
   "name": "python",
   "nbconvert_exporter": "python",
   "pygments_lexer": "ipython3",
   "version": "3.11.3"
  }
 },
 "nbformat": 4,
 "nbformat_minor": 5
}
