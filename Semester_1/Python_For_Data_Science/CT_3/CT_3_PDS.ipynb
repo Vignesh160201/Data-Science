{
 "cells": [
  {
   "cell_type": "code",
   "execution_count": null,
   "id": "7146c64f-6d0e-451b-91f2-3c0105049bef",
   "metadata": {},
   "outputs": [],
   "source": [
    "import pandas as pd\n",
    "import numpy as np"
   ]
  },
  {
   "cell_type": "code",
   "execution_count": null,
   "id": "c7ae2bb5-cf13-4486-aeb0-8e4ff0b5d8cf",
   "metadata": {},
   "outputs": [],
   "source": [
    "import seaborn as sns\n",
    "import matplotlib.pyplot as plt"
   ]
  },
  {
   "cell_type": "code",
   "execution_count": null,
   "id": "f9656537-31ee-4051-adf7-3eaf987a2ce1",
   "metadata": {},
   "outputs": [],
   "source": [
    "#from sklearn.preprocessing import OrdinalEncoder\n",
    "from sklearn.preprocessing import LabelEncoder\n",
    "#from sklearn.preprocessing import OneHotEncoder\n"
   ]
  },
  {
   "cell_type": "code",
   "execution_count": null,
   "id": "e43e1c59-0f85-4417-b292-14ff85d684ec",
   "metadata": {},
   "outputs": [],
   "source": [
    "file_path='Loan_Sanction_DataSet.csv'\n",
    "df=pd.DataFrame(pd.read_csv(file_path)).drop('Loan_ID',axis=1)"
   ]
  },
  {
   "cell_type": "code",
   "execution_count": null,
   "id": "13737dca-f8de-4e7d-a1f1-b943087a5ac0",
   "metadata": {},
   "outputs": [],
   "source": [
    "df.head()"
   ]
  },
  {
   "cell_type": "code",
   "execution_count": null,
   "id": "17544468-c789-4a6c-8124-18faa13af9ba",
   "metadata": {},
   "outputs": [],
   "source": [
    "df.info()"
   ]
  },
  {
   "cell_type": "code",
   "execution_count": null,
   "id": "702c43a5-52a6-49da-8c9c-13f5d1c283fd",
   "metadata": {},
   "outputs": [],
   "source": [
    "df.columns"
   ]
  },
  {
   "cell_type": "code",
   "execution_count": null,
   "id": "b886f823-4c37-44be-9478-57452adeebfd",
   "metadata": {},
   "outputs": [],
   "source": [
    "numerical_variables = df.select_dtypes(include=['int', 'float']).columns\n",
    "categorical_variables=df.select_dtypes(include=['object']).columns"
   ]
  },
  {
   "cell_type": "code",
   "execution_count": null,
   "id": "1241f45d-0f40-44b0-ac4c-0e2c6163fe8c",
   "metadata": {},
   "outputs": [],
   "source": [
    "print('Numerical Data are   :',numerical_variables)\n",
    "print('Categorical Data are :',categorical_variables)"
   ]
  },
  {
   "cell_type": "code",
   "execution_count": null,
   "id": "2e284432-340a-45fa-87c7-b5d478d88944",
   "metadata": {},
   "outputs": [],
   "source": [
    "# Create an instance of LabelEncoder\n",
    "encoder = LabelEncoder()\n",
    "#df[categorical_columns]=encoder.fit_transform(categorical_columns)\n",
    "\n",
    "for i in categorical_variables:\n",
    "    if(df[i].dtype =='object'):\n",
    "        #df[i]=encoder.fit_transform(df[i])\n",
    "        pass\n",
    "    else:\n",
    "        print(i +\"  is already Numerial Type\")\n",
    "        pass\n",
    "    "
   ]
  },
  {
   "cell_type": "code",
   "execution_count": null,
   "id": "f4997a9f-af3f-453b-b3e6-109934ede941",
   "metadata": {},
   "outputs": [],
   "source": [
    "df.head()"
   ]
  },
  {
   "cell_type": "code",
   "execution_count": null,
   "id": "b51fa313-dbbd-42e1-bf2a-ec96aebc8835",
   "metadata": {},
   "outputs": [],
   "source": [
    "#Univariate analysis \n",
    "graph_types=['histPlot-Numerial','countPlot-Categorical','Box Plot-Numerical','Grouped Box Plot -Numerical','Pie Chart - Categorical']"
   ]
  },
  {
   "cell_type": "code",
   "execution_count": null,
   "id": "d2d286de-c53e-464d-8a90-e1c41d0648d0",
   "metadata": {},
   "outputs": [],
   "source": [
    "# Univariate analysis for each numerical variable\n",
    "for variable in numerical_variables:\n",
    "    plt.figure(figsize=(10, 6))\n",
    "    sns.histplot(df[variable].dropna(), bins=30, kde=True)\n",
    "    plt.title(f'Distribution of {variable}')\n",
    "    plt.xlabel(variable)\n",
    "    plt.ylabel('Frequency')\n",
    "    plt.show()"
   ]
  },
  {
   "cell_type": "code",
   "execution_count": null,
   "id": "6722a896-dcd3-477e-88ed-8add6b5d8be8",
   "metadata": {},
   "outputs": [],
   "source": [
    "# Univariate analysis for each categorical variable\n",
    "for variable in categorical_variables:\n",
    "    plt.figure(figsize=(8, 6))\n",
    "    sns.countplot(x=variable, data=df)\n",
    "    plt.title(f'Count of {variable}')\n",
    "    plt.xlabel(variable)\n",
    "    plt.ylabel('Count')\n",
    "    plt.show()\n"
   ]
  },
  {
   "cell_type": "code",
   "execution_count": null,
   "id": "9742d3c4-8b75-4595-88a6-17f924c17397",
   "metadata": {},
   "outputs": [],
   "source": [
    "# Box plot\n",
    "for variables in numerical_variables:\n",
    "    plt.figure(figsize=(10, 6))\n",
    "    sns.boxplot(x=variables, data=df)\n",
    "    plt.title(f'Box Plot of { variables}')\n",
    "    plt.show()"
   ]
  },
  {
   "cell_type": "code",
   "execution_count": null,
   "id": "be8054d4-86bb-468c-9b36-b252c969b4be",
   "metadata": {},
   "outputs": [],
   "source": [
    "#Grouped Box PLot\n",
    "df.boxplot(figsize=(20, 10))\n",
    "plt.title(\"Boxplot of dataset Original data\")\n",
    "plt.show()"
   ]
  },
  {
   "cell_type": "code",
   "execution_count": null,
   "id": "edd46304-7108-4aac-930b-f29711642fc0",
   "metadata": {},
   "outputs": [],
   "source": [
    "# Pie chart\n",
    "for variables in categorical_variables:\n",
    "    status_distribution = df[variables].value_counts()\n",
    "    plt.figure(figsize=(8,8))\n",
    "    plt.pie(status_distribution, labels=status_distribution.index, autopct='%1.1f%%', startangle=90)\n",
    "    plt.title(f'{variables}''Distribution')\n",
    "    plt.show()\n"
   ]
  },
  {
   "cell_type": "code",
   "execution_count": null,
   "id": "f88dcfef-7d97-4e0d-bf3c-0a7963111293",
   "metadata": {},
   "outputs": [],
   "source": [
    "# Bivariate analysis for each pair of numerica variables\n",
    "# Pairwise scatter plots for numerical variables\n",
    "sns.pairplot(df[numerical_variables])\n",
    "plt.suptitle('Pairwise Scatter Plots of Numerical Variables', y=1.02)\n",
    "plt.show()\n"
   ]
  },
  {
   "cell_type": "code",
   "execution_count": null,
   "id": "0a590fab-a478-49e6-af92-c1dd27315b74",
   "metadata": {},
   "outputs": [],
   "source": [
    "# Bivariate analysis for each pair of categorical variables\n",
    "for i in range(len(categorical_variables) - 1):\n",
    "    for j in range(i + 1, len(categorical_variables)):\n",
    "        plt.figure(figsize=(10, 6))\n",
    "        sns.countplot(x=categorical_variables[i], hue=categorical_variables[j], data=df)\n",
    "        plt.title(f'{categorical_variables[i]} vs. {categorical_variables[j]}')\n",
    "        plt.xlabel(categorical_variables[i])\n",
    "        plt.ylabel('Count')\n",
    "        plt.show()"
   ]
  },
  {
   "cell_type": "code",
   "execution_count": null,
   "id": "3dde4bef-1e88-4230-bf89-e546efbe537f",
   "metadata": {},
   "outputs": [],
   "source": [
    "#Scatter plot for Numerical Columns\n",
    "for i in range(len(numerical_variables)-1):\n",
    "    for j in range(i+1,len(numerical_variables)-1):\n",
    "        plt.figure(figsize=(10,6))\n",
    "        sns.scatterplot(x=numerical_variables[i],y=numerical_variables[j],data=df)\n",
    "        plt.title(f'Scatter Plot  of {numerical_variables[i]} Vs {numerical_variables[j]}')\n",
    "        plt.xlabel(numerical_variables[i])\n",
    "        plt.ylabel(numerical_variables[j])\n",
    "        plt.show()"
   ]
  },
  {
   "cell_type": "code",
   "execution_count": null,
   "id": "8c19a797-fd16-4669-bc52-8cf5edc15c70",
   "metadata": {},
   "outputs": [],
   "source": [
    "#Multi Variant Analysis\n",
    "#Scatter plot for Numerical Columns\n",
    "for i in range(len(numerical_variables)-1):\n",
    "    for j in range(i+1,len(numerical_variables)-1):\n",
    "        for k in range(len(categorical_variables)-1):            \n",
    "            plt.figure(figsize=(10,6))\n",
    "            sns.scatterplot(x=numerical_variables[i],y=numerical_variables[j],hue=categorical_variables[k],data=df)\n",
    "            plt.title(f'Scatter Plot  of {numerical_variables[i]} Vs {numerical_variables[j]} on {categorical_variables[k]}')\n",
    "            plt.xlabel(numerical_variables[i])\n",
    "            plt.ylabel(numerical_variables[j])\n",
    "            plt.show()"
   ]
  },
  {
   "cell_type": "code",
   "execution_count": null,
   "id": "734731d6-c30e-4ecc-8c0c-5b48cdd79a6a",
   "metadata": {},
   "outputs": [],
   "source": [
    "# Multivariate Visualization\n",
    "# Example 5: Heatmap of Correlation Matrix\n",
    "correlation_matrix = df[numerical_variables].corr()\n",
    "plt.figure(figsize=(10, 8))\n",
    "sns.heatmap(correlation_matrix, annot=True, cmap='coolwarm', fmt='.2f')\n",
    "plt.title('Correlation Matrix Heatmap')\n",
    "plt.show()"
   ]
  },
  {
   "cell_type": "code",
   "execution_count": null,
   "id": "b2598371-fedb-4324-8356-de2db74f6793",
   "metadata": {},
   "outputs": [],
   "source": [
    "# Create a pair plot with hue\n",
    "for variables in categorical_variables:\n",
    "    sns.pairplot(df, vars=numerical_variables, hue=variables)\n",
    "    plt.suptitle(f'Pair Plot of Numerical Variables with {variables}', y=1.02)\n",
    "    plt.show()"
   ]
  },
  {
   "cell_type": "code",
   "execution_count": null,
   "id": "136b4c32-dcc0-4246-984a-fc3f70daa657",
   "metadata": {},
   "outputs": [],
   "source": []
  }
 ],
 "metadata": {
  "kernelspec": {
   "display_name": "Python 3 (ipykernel)",
   "language": "python",
   "name": "python3"
  },
  "language_info": {
   "codemirror_mode": {
    "name": "ipython",
    "version": 3
   },
   "file_extension": ".py",
   "mimetype": "text/x-python",
   "name": "python",
   "nbconvert_exporter": "python",
   "pygments_lexer": "ipython3",
   "version": "3.12.0"
  }
 },
 "nbformat": 4,
 "nbformat_minor": 5
}
