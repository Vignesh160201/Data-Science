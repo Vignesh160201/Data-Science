{
 "cells": [
  {
   "cell_type": "markdown",
   "id": "6kdM0sRMPG-8",
   "metadata": {
    "id": "6kdM0sRMPG-8"
   },
   "source": [
    "**Define the necessary libraries**"
   ]
  },
  {
   "cell_type": "code",
   "execution_count": 9,
   "id": "ul_frjkCPS4O",
   "metadata": {
    "id": "ul_frjkCPS4O"
   },
   "outputs": [],
   "source": [
    "import pandas as pd\n",
    "import numpy as np\n",
    "import matplotlib.pyplot as plt\n",
    "import seaborn as  sns\n",
    "import random"
   ]
  },
  {
   "cell_type": "code",
   "execution_count": 10,
   "id": "6d1046a9-1c12-4ddb-aeea-1c875d1f98e8",
   "metadata": {},
   "outputs": [],
   "source": [
    "from sklearn.model_selection import train_test_split\n",
    "from sklearn.linear_model import LinearRegression\n",
    "from sklearn.metrics import mean_squared_error\n",
    "from sklearn.preprocessing import MinMaxScaler, StandardScaler, MaxAbsScaler, Normalizer\n"
   ]
  },
  {
   "cell_type": "markdown",
   "id": "1J_9Dqc4PdRT",
   "metadata": {
    "id": "1J_9Dqc4PdRT"
   },
   "source": [
    "**Load the dataset into the dataframe**"
   ]
  },
  {
   "cell_type": "code",
   "execution_count": 12,
   "id": "Ac90Gl5IPhP_",
   "metadata": {
    "id": "Ac90Gl5IPhP_"
   },
   "outputs": [
    {
     "data": {
      "text/html": [
       "<div>\n",
       "<style scoped>\n",
       "    .dataframe tbody tr th:only-of-type {\n",
       "        vertical-align: middle;\n",
       "    }\n",
       "\n",
       "    .dataframe tbody tr th {\n",
       "        vertical-align: top;\n",
       "    }\n",
       "\n",
       "    .dataframe thead th {\n",
       "        text-align: right;\n",
       "    }\n",
       "</style>\n",
       "<table border=\"1\" class=\"dataframe\">\n",
       "  <thead>\n",
       "    <tr style=\"text-align: right;\">\n",
       "      <th></th>\n",
       "      <th>Item_Identifier</th>\n",
       "      <th>Item_Weight</th>\n",
       "      <th>Item_Fat_Content</th>\n",
       "      <th>Item_Visibility</th>\n",
       "      <th>Item_Type</th>\n",
       "      <th>Item_MRP</th>\n",
       "      <th>Outlet_Identifier</th>\n",
       "      <th>Outlet_Establishment_Year</th>\n",
       "      <th>Outlet_Size</th>\n",
       "      <th>Outlet_Location_Type</th>\n",
       "      <th>Outlet_Type</th>\n",
       "      <th>Item_Outlet_Sales</th>\n",
       "    </tr>\n",
       "  </thead>\n",
       "  <tbody>\n",
       "    <tr>\n",
       "      <th>0</th>\n",
       "      <td>FDA15</td>\n",
       "      <td>9.30</td>\n",
       "      <td>Low Fat</td>\n",
       "      <td>0.016047</td>\n",
       "      <td>Dairy</td>\n",
       "      <td>249.8092</td>\n",
       "      <td>OUT049</td>\n",
       "      <td>1999</td>\n",
       "      <td>Medium</td>\n",
       "      <td>Tier 1</td>\n",
       "      <td>Supermarket Type1</td>\n",
       "      <td>3735.1380</td>\n",
       "    </tr>\n",
       "    <tr>\n",
       "      <th>1</th>\n",
       "      <td>DRC01</td>\n",
       "      <td>5.92</td>\n",
       "      <td>Regular</td>\n",
       "      <td>0.019278</td>\n",
       "      <td>Soft Drinks</td>\n",
       "      <td>48.2692</td>\n",
       "      <td>OUT018</td>\n",
       "      <td>2009</td>\n",
       "      <td>Medium</td>\n",
       "      <td>Tier 3</td>\n",
       "      <td>Supermarket Type2</td>\n",
       "      <td>443.4228</td>\n",
       "    </tr>\n",
       "    <tr>\n",
       "      <th>2</th>\n",
       "      <td>FDN15</td>\n",
       "      <td>17.50</td>\n",
       "      <td>Low Fat</td>\n",
       "      <td>0.016760</td>\n",
       "      <td>Meat</td>\n",
       "      <td>141.6180</td>\n",
       "      <td>OUT049</td>\n",
       "      <td>1999</td>\n",
       "      <td>Medium</td>\n",
       "      <td>Tier 1</td>\n",
       "      <td>Supermarket Type1</td>\n",
       "      <td>2097.2700</td>\n",
       "    </tr>\n",
       "    <tr>\n",
       "      <th>3</th>\n",
       "      <td>FDX07</td>\n",
       "      <td>19.20</td>\n",
       "      <td>Regular</td>\n",
       "      <td>0.000000</td>\n",
       "      <td>Fruits and Vegetables</td>\n",
       "      <td>182.0950</td>\n",
       "      <td>OUT010</td>\n",
       "      <td>1998</td>\n",
       "      <td>NaN</td>\n",
       "      <td>Tier 3</td>\n",
       "      <td>Grocery Store</td>\n",
       "      <td>732.3800</td>\n",
       "    </tr>\n",
       "    <tr>\n",
       "      <th>4</th>\n",
       "      <td>NCD19</td>\n",
       "      <td>8.93</td>\n",
       "      <td>Low Fat</td>\n",
       "      <td>0.000000</td>\n",
       "      <td>Household</td>\n",
       "      <td>53.8614</td>\n",
       "      <td>OUT013</td>\n",
       "      <td>1987</td>\n",
       "      <td>High</td>\n",
       "      <td>Tier 3</td>\n",
       "      <td>Supermarket Type1</td>\n",
       "      <td>994.7052</td>\n",
       "    </tr>\n",
       "  </tbody>\n",
       "</table>\n",
       "</div>"
      ],
      "text/plain": [
       "  Item_Identifier  Item_Weight Item_Fat_Content  Item_Visibility  \\\n",
       "0           FDA15         9.30          Low Fat         0.016047   \n",
       "1           DRC01         5.92          Regular         0.019278   \n",
       "2           FDN15        17.50          Low Fat         0.016760   \n",
       "3           FDX07        19.20          Regular         0.000000   \n",
       "4           NCD19         8.93          Low Fat         0.000000   \n",
       "\n",
       "               Item_Type  Item_MRP Outlet_Identifier  \\\n",
       "0                  Dairy  249.8092            OUT049   \n",
       "1            Soft Drinks   48.2692            OUT018   \n",
       "2                   Meat  141.6180            OUT049   \n",
       "3  Fruits and Vegetables  182.0950            OUT010   \n",
       "4              Household   53.8614            OUT013   \n",
       "\n",
       "   Outlet_Establishment_Year Outlet_Size Outlet_Location_Type  \\\n",
       "0                       1999      Medium               Tier 1   \n",
       "1                       2009      Medium               Tier 3   \n",
       "2                       1999      Medium               Tier 1   \n",
       "3                       1998         NaN               Tier 3   \n",
       "4                       1987        High               Tier 3   \n",
       "\n",
       "         Outlet_Type  Item_Outlet_Sales  \n",
       "0  Supermarket Type1          3735.1380  \n",
       "1  Supermarket Type2           443.4228  \n",
       "2  Supermarket Type1          2097.2700  \n",
       "3      Grocery Store           732.3800  \n",
       "4  Supermarket Type1           994.7052  "
      ]
     },
     "execution_count": 12,
     "metadata": {},
     "output_type": "execute_result"
    }
   ],
   "source": [
    "data=pd.read_csv('BigmartSales.csv')\n",
    "df=pd.DataFrame(data)\n",
    "df.head()"
   ]
  },
  {
   "cell_type": "markdown",
   "id": "tcL8ERkxP0Fn",
   "metadata": {
    "id": "tcL8ERkxP0Fn"
   },
   "source": [
    "**Drop the \"Item_Identifier\" and \"Outlet_Identifier\" columns**"
   ]
  },
  {
   "cell_type": "code",
   "execution_count": 13,
   "id": "4ad74f64",
   "metadata": {
    "id": "4ad74f64"
   },
   "outputs": [
    {
     "name": "stdout",
     "output_type": "stream",
     "text": [
      "<class 'pandas.core.frame.DataFrame'>\n",
      "RangeIndex: 8523 entries, 0 to 8522\n",
      "Data columns (total 10 columns):\n",
      " #   Column                     Non-Null Count  Dtype  \n",
      "---  ------                     --------------  -----  \n",
      " 0   Item_Weight                7060 non-null   float64\n",
      " 1   Item_Fat_Content           8523 non-null   object \n",
      " 2   Item_Visibility            8523 non-null   float64\n",
      " 3   Item_Type                  8523 non-null   object \n",
      " 4   Item_MRP                   8523 non-null   float64\n",
      " 5   Outlet_Establishment_Year  8523 non-null   int64  \n",
      " 6   Outlet_Size                6113 non-null   object \n",
      " 7   Outlet_Location_Type       8523 non-null   object \n",
      " 8   Outlet_Type                8523 non-null   object \n",
      " 9   Item_Outlet_Sales          8523 non-null   float64\n",
      "dtypes: float64(4), int64(1), object(5)\n",
      "memory usage: 666.0+ KB\n"
     ]
    }
   ],
   "source": [
    "columns_to_drop=[\"Item_Identifier\",\"Outlet_Identifier\"]\n",
    "df=df.drop(columns_to_drop,axis=1)\n",
    "#print(df.head())\n",
    "df.info()"
   ]
  },
  {
   "cell_type": "markdown",
   "id": "CssoGZYwP9EA",
   "metadata": {
    "id": "CssoGZYwP9EA"
   },
   "source": [
    "**Extract the target labels**"
   ]
  },
  {
   "cell_type": "code",
   "execution_count": 14,
   "id": "3a8c1447",
   "metadata": {
    "id": "3a8c1447"
   },
   "outputs": [
    {
     "data": {
      "text/plain": [
       "Index(['Item_Weight', 'Item_Fat_Content', 'Item_Visibility', 'Item_Type',\n",
       "       'Item_MRP', 'Outlet_Establishment_Year', 'Outlet_Size',\n",
       "       'Outlet_Location_Type', 'Outlet_Type', 'Item_Outlet_Sales'],\n",
       "      dtype='object')"
      ]
     },
     "execution_count": 14,
     "metadata": {},
     "output_type": "execute_result"
    }
   ],
   "source": [
    "df.columns"
   ]
  },
  {
   "cell_type": "markdown",
   "id": "J-NIsSLIQEJg",
   "metadata": {
    "id": "J-NIsSLIQEJg"
   },
   "source": [
    "**Replace the field \"Item_Fat_Content\" with numerical value**"
   ]
  },
  {
   "cell_type": "code",
   "execution_count": 15,
   "id": "2357e3d1",
   "metadata": {
    "id": "2357e3d1",
    "outputId": "08546d8f-4d30-4fd7-aa4c-13dcb4211179"
   },
   "outputs": [],
   "source": [
    "df['Item_Fat_Content']=df['Item_Fat_Content'].replace({'Low Fat':'0','Regular':'1'})"
   ]
  },
  {
   "cell_type": "markdown",
   "id": "cyIKY0cAQOZK",
   "metadata": {
    "id": "cyIKY0cAQOZK"
   },
   "source": [
    "**Perform ordinal encoding of the \"Item_Type\", \"Outlet_Type\", \"Outlet_Location_Type\" and \"Outlet_Type\" field**"
   ]
  },
  {
   "cell_type": "code",
   "execution_count": 16,
   "id": "c609779d-776e-4757-bcc3-fbfae6209dda",
   "metadata": {},
   "outputs": [],
   "source": [
    "#Mapping Ordinal for 'Item_Type','Outlet_Type','Outlet_Location_Type'\n",
    "ordinal_encoding=['Item_Type','Outlet_Type','Outlet_Location_Type']\n",
    "\n",
    "for i in ordinal_encoding:\n",
    "    list_data=df[i].unique()\n",
    "    list_data_ordinal={value:index + 1 for index, value in enumerate(list_data)}\n",
    "    df[i]=df[i].map(list_data_ordinal)\n",
    "    #print(list_data)\n",
    "\n",
    "\n"
   ]
  },
  {
   "cell_type": "code",
   "execution_count": 8,
   "id": "tMucAcOjVmCA",
   "metadata": {
    "id": "tMucAcOjVmCA"
   },
   "outputs": [
    {
     "data": {
      "text/plain": [
       "'#Mapping Ordinal for \"Item Type\"\\n\\nitem_type_list=df[\\'Item_Type\\'].unique()\\nitem_list_ordinal={value:index + 1 for index, value in enumerate(item_type_list)}\\ndf[\\'Item_Type\\']=df[\\'Item_Type\\'].map(item_list_ordinal)\\n#print(item_type_list)\\n#print(df[\\'Item_Type\\'])\\n\\n#Mapping Ordinal for \"Outlet Type\"\\n\\noutlet_type_list=df[\\'Outlet_Type\\'].unique()\\noutlet_type_list_ordinal={value:index + 1 for index, value in enumerate(outlet_type_list)}\\ndf[\\'Outlet_Type\\']=df[\\'Outlet_Type\\'].map(outlet_type_list_ordinal)\\n#print(outlet_type_list)\\n#print(df[\\'Outlet_Type\\'])\\n\\n#MApping Ordinal for Outlet_Location_Type\\nOutlet_Location_Type_list=df[\\'Outlet_Location_Type\\'].unique()\\nOutlet_Location_Type_list_ordinal={value:index + 1 for index, value in enumerate(Outlet_Location_Type_list)}\\ndf[\\'Outlet_Location_Type\\']=df[\\'Outlet_Location_Type\\'].map(Outlet_Location_Type_list_ordinal)\\n#print(Outlet_Location_Type_list)\\n#print(df[\\'Outlet_Location_Type\\'])\\n'"
      ]
     },
     "execution_count": 8,
     "metadata": {},
     "output_type": "execute_result"
    }
   ],
   "source": [
    "'''#Mapping Ordinal for \"Item Type\"\n",
    "\n",
    "item_type_list=df['Item_Type'].unique()\n",
    "item_list_ordinal={value:index + 1 for index, value in enumerate(item_type_list)}\n",
    "df['Item_Type']=df['Item_Type'].map(item_list_ordinal)\n",
    "#print(item_type_list)\n",
    "#print(df['Item_Type'])\n",
    "\n",
    "#Mapping Ordinal for \"Outlet Type\"\n",
    "\n",
    "outlet_type_list=df['Outlet_Type'].unique()\n",
    "outlet_type_list_ordinal={value:index + 1 for index, value in enumerate(outlet_type_list)}\n",
    "df['Outlet_Type']=df['Outlet_Type'].map(outlet_type_list_ordinal)\n",
    "#print(outlet_type_list)\n",
    "#print(df['Outlet_Type'])\n",
    "\n",
    "#MApping Ordinal for Outlet_Location_Type\n",
    "Outlet_Location_Type_list=df['Outlet_Location_Type'].unique()\n",
    "Outlet_Location_Type_list_ordinal={value:index + 1 for index, value in enumerate(Outlet_Location_Type_list)}\n",
    "df['Outlet_Location_Type']=df['Outlet_Location_Type'].map(Outlet_Location_Type_list_ordinal)\n",
    "#print(Outlet_Location_Type_list)\n",
    "#print(df['Outlet_Location_Type'])\n",
    "'''"
   ]
  },
  {
   "cell_type": "markdown",
   "id": "x-B8rw1fRjHJ",
   "metadata": {
    "id": "x-B8rw1fRjHJ"
   },
   "source": [
    "**Imputation of \"Outlet_Size\" field with mode value**"
   ]
  },
  {
   "cell_type": "code",
   "execution_count": 17,
   "id": "p9xo7tSTVwsx",
   "metadata": {
    "id": "p9xo7tSTVwsx"
   },
   "outputs": [],
   "source": [
    "outlet_size_mode_value = df['Outlet_Size'].mode()[0]\n",
    "df['Outlet_Size'].fillna(outlet_size_mode_value, inplace=True)\n",
    "#print(df['Outlet_Size'])"
   ]
  },
  {
   "cell_type": "markdown",
   "id": "4Onuj6i6Rhkg",
   "metadata": {
    "id": "4Onuj6i6Rhkg"
   },
   "source": [
    "**Check for null values**"
   ]
  },
  {
   "cell_type": "code",
   "execution_count": 18,
   "id": "2poAyoTZVxMo",
   "metadata": {
    "id": "2poAyoTZVxMo"
   },
   "outputs": [
    {
     "name": "stdout",
     "output_type": "stream",
     "text": [
      "Item_Weight                  1463\n",
      "Item_Fat_Content                0\n",
      "Item_Visibility                 0\n",
      "Item_Type                       0\n",
      "Item_MRP                        0\n",
      "Outlet_Establishment_Year       0\n",
      "Outlet_Size                     0\n",
      "Outlet_Location_Type            0\n",
      "Outlet_Type                     0\n",
      "Item_Outlet_Sales               0\n",
      "dtype: int64\n"
     ]
    }
   ],
   "source": [
    "null_values=df.isnull().sum()\n",
    "print(null_values)"
   ]
  },
  {
   "cell_type": "markdown",
   "id": "Ba_NQSTYRyEQ",
   "metadata": {
    "id": "Ba_NQSTYRyEQ"
   },
   "source": [
    "**Imputation of \"Item_Weight\" field with mode value**"
   ]
  },
  {
   "cell_type": "code",
   "execution_count": 19,
   "id": "YpZFVBF9Vxtf",
   "metadata": {
    "id": "YpZFVBF9Vxtf"
   },
   "outputs": [],
   "source": [
    "item_weight_mode_value=df['Item_Weight'].mode()[0]\n",
    "df['Item_Weight'].fillna(item_weight_mode_value,inplace=True)\n",
    "#print(df['Item_Weight'])"
   ]
  },
  {
   "cell_type": "code",
   "execution_count": 20,
   "id": "63adf330-c1b8-45e5-bb13-afb9dea2d198",
   "metadata": {},
   "outputs": [
    {
     "data": {
      "text/html": [
       "<div>\n",
       "<style scoped>\n",
       "    .dataframe tbody tr th:only-of-type {\n",
       "        vertical-align: middle;\n",
       "    }\n",
       "\n",
       "    .dataframe tbody tr th {\n",
       "        vertical-align: top;\n",
       "    }\n",
       "\n",
       "    .dataframe thead th {\n",
       "        text-align: right;\n",
       "    }\n",
       "</style>\n",
       "<table border=\"1\" class=\"dataframe\">\n",
       "  <thead>\n",
       "    <tr style=\"text-align: right;\">\n",
       "      <th></th>\n",
       "      <th>Item_Weight</th>\n",
       "      <th>Item_Fat_Content</th>\n",
       "      <th>Item_Visibility</th>\n",
       "      <th>Item_Type</th>\n",
       "      <th>Item_MRP</th>\n",
       "      <th>Outlet_Establishment_Year</th>\n",
       "      <th>Outlet_Size</th>\n",
       "      <th>Outlet_Location_Type</th>\n",
       "      <th>Outlet_Type</th>\n",
       "      <th>Item_Outlet_Sales</th>\n",
       "    </tr>\n",
       "  </thead>\n",
       "  <tbody>\n",
       "    <tr>\n",
       "      <th>0</th>\n",
       "      <td>9.30</td>\n",
       "      <td>0</td>\n",
       "      <td>0.016047</td>\n",
       "      <td>1</td>\n",
       "      <td>249.8092</td>\n",
       "      <td>1999</td>\n",
       "      <td>Medium</td>\n",
       "      <td>1</td>\n",
       "      <td>1</td>\n",
       "      <td>3735.1380</td>\n",
       "    </tr>\n",
       "    <tr>\n",
       "      <th>1</th>\n",
       "      <td>5.92</td>\n",
       "      <td>1</td>\n",
       "      <td>0.019278</td>\n",
       "      <td>2</td>\n",
       "      <td>48.2692</td>\n",
       "      <td>2009</td>\n",
       "      <td>Medium</td>\n",
       "      <td>2</td>\n",
       "      <td>2</td>\n",
       "      <td>443.4228</td>\n",
       "    </tr>\n",
       "    <tr>\n",
       "      <th>2</th>\n",
       "      <td>17.50</td>\n",
       "      <td>0</td>\n",
       "      <td>0.016760</td>\n",
       "      <td>3</td>\n",
       "      <td>141.6180</td>\n",
       "      <td>1999</td>\n",
       "      <td>Medium</td>\n",
       "      <td>1</td>\n",
       "      <td>1</td>\n",
       "      <td>2097.2700</td>\n",
       "    </tr>\n",
       "    <tr>\n",
       "      <th>3</th>\n",
       "      <td>19.20</td>\n",
       "      <td>1</td>\n",
       "      <td>0.000000</td>\n",
       "      <td>4</td>\n",
       "      <td>182.0950</td>\n",
       "      <td>1998</td>\n",
       "      <td>Medium</td>\n",
       "      <td>2</td>\n",
       "      <td>3</td>\n",
       "      <td>732.3800</td>\n",
       "    </tr>\n",
       "    <tr>\n",
       "      <th>4</th>\n",
       "      <td>8.93</td>\n",
       "      <td>0</td>\n",
       "      <td>0.000000</td>\n",
       "      <td>5</td>\n",
       "      <td>53.8614</td>\n",
       "      <td>1987</td>\n",
       "      <td>High</td>\n",
       "      <td>2</td>\n",
       "      <td>1</td>\n",
       "      <td>994.7052</td>\n",
       "    </tr>\n",
       "  </tbody>\n",
       "</table>\n",
       "</div>"
      ],
      "text/plain": [
       "   Item_Weight Item_Fat_Content  Item_Visibility  Item_Type  Item_MRP  \\\n",
       "0         9.30                0         0.016047          1  249.8092   \n",
       "1         5.92                1         0.019278          2   48.2692   \n",
       "2        17.50                0         0.016760          3  141.6180   \n",
       "3        19.20                1         0.000000          4  182.0950   \n",
       "4         8.93                0         0.000000          5   53.8614   \n",
       "\n",
       "   Outlet_Establishment_Year Outlet_Size  Outlet_Location_Type  Outlet_Type  \\\n",
       "0                       1999      Medium                     1            1   \n",
       "1                       2009      Medium                     2            2   \n",
       "2                       1999      Medium                     1            1   \n",
       "3                       1998      Medium                     2            3   \n",
       "4                       1987        High                     2            1   \n",
       "\n",
       "   Item_Outlet_Sales  \n",
       "0          3735.1380  \n",
       "1           443.4228  \n",
       "2          2097.2700  \n",
       "3           732.3800  \n",
       "4           994.7052  "
      ]
     },
     "execution_count": 20,
     "metadata": {},
     "output_type": "execute_result"
    }
   ],
   "source": [
    "df.head()"
   ]
  },
  {
   "cell_type": "markdown",
   "id": "J2Q4a-PaR7KB",
   "metadata": {
    "id": "J2Q4a-PaR7KB"
   },
   "source": [
    "**Display all field in the dataset using boxplot**"
   ]
  },
  {
   "cell_type": "code",
   "execution_count": 21,
   "id": "241bf11e-f8e8-4422-994a-6529c5e2b216",
   "metadata": {},
   "outputs": [
    {
     "data": {
      "image/png": "[encoded data removed]",
      "text/plain": [
       "<Figure size 2000x1000 with 1 Axes>"
      ]
     },
     "metadata": {},
     "output_type": "display_data"
    }
   ],
   "source": [
    "#numeric_columns = df.select_dtypes(include=['int', 'float']).columns\n",
    "df.boxplot(figsize=(20, 10))\n",
    "plt.title(\"Boxplot of dataset Original data\")\n",
    "plt.show()"
   ]
  },
  {
   "cell_type": "code",
   "execution_count": 14,
   "id": "fe67212e-a676-49b4-9546-c26407004746",
   "metadata": {},
   "outputs": [
    {
     "data": {
      "image/png": "[encoded data removed]",
      "text/plain": [
       "<Figure size 640x480 with 1 Axes>"
      ]
     },
     "metadata": {},
     "output_type": "display_data"
    }
   ],
   "source": [
    "#Scatter plot\n",
    "plt.scatter(df['Item_Type'], df['Item_Outlet_Sales'])\n",
    "plt.title('Scatter Plot of original DataFrame')\n",
    "plt.xlabel(' Item_Type')\n",
    "plt.ylabel(' Item_Outlet_Sales')\n",
    "plt.show()"
   ]
  },
  {
   "cell_type": "code",
   "execution_count": 39,
   "id": "zWaUseKZVyYR",
   "metadata": {
    "id": "zWaUseKZVyYR"
   },
   "outputs": [
    {
     "name": "stdout",
     "output_type": "stream",
     "text": [
      "\n",
      "X Variables : Index(['Item_Weight', 'Item_Visibility', 'Item_Type', 'Item_MRP',\n",
      "       'Outlet_Location_Type', 'Outlet_Type'],\n",
      "      dtype='object')\n",
      "\n",
      "y variable  : Index(['Item_Outlet_Sales'], dtype='object')\n"
     ]
    }
   ],
   "source": [
    "#numeric_columns = df.select_dtypes(include=['int', 'float']).columns\n",
    "X = df[['Item_Weight', 'Item_Visibility', 'Item_Type', \n",
    "                        'Item_MRP', \n",
    "                        'Outlet_Location_Type', 'Outlet_Type']]\n",
    "y = df[['Item_Outlet_Sales']]\n",
    "\n",
    "print(\"\\nX Variables :\",X.columns)\n",
    "print(\"\\ny variable  :\",y.columns)"
   ]
  },
  {
   "cell_type": "markdown",
   "id": "YHknhULISQ6T",
   "metadata": {
    "id": "YHknhULISQ6T"
   },
   "source": [
    "**Split the dataset into train and test(20%), apply Linear Regression and calculate RMSE value**"
   ]
  },
  {
   "cell_type": "code",
   "execution_count": 40,
   "id": "a4NmXmnXVy5H",
   "metadata": {
    "id": "a4NmXmnXVy5H"
   },
   "outputs": [
    {
     "name": "stdout",
     "output_type": "stream",
     "text": [
      "\n",
      "X_train shape : (6818, 6)\n",
      "y_train shape : (6818, 1)\n",
      "\n",
      "X_test shape  : (1705, 6)\n",
      "y_test shape  : (1705, 1)\n",
      "\n",
      "Model Name: LinearRegression() \n",
      "\n",
      "['Features of X_train, y_train is : Item_Weight'\n",
      " 'Features of X_train, y_train is : Item_Visibility'\n",
      " 'Features of X_train, y_train is : Item_Type'\n",
      " 'Features of X_train, y_train is : Item_MRP'\n",
      " 'Features of X_train, y_train is : Outlet_Location_Type'\n",
      " 'Features of X_train, y_train is : Outlet_Type']\n",
      "\n",
      "y_pred shape :  (1705, 1)\n",
      "\n",
      "Root Mean Squared Error (RMSE) Linear Regression : 1330.3770710699025\n"
     ]
    }
   ],
   "source": [
    "# Splitting the dataset into training and testing sets (80% train, 20% test)\n",
    "X_train, X_test, y_train, y_test = train_test_split(X, y, test_size=0.2, random_state=42)\n",
    "\n",
    "##shape of test and train\n",
    "print(\"\\nX_train shape :\",X_train.shape)\n",
    "print(\"y_train shape :\",y_train.shape)\n",
    "\n",
    "print(\"\\nX_test shape  :\",X_test.shape)\n",
    "print(\"y_test shape  :\",y_test.shape)\n",
    "\n",
    "\n",
    "# Applying Linear Regression\n",
    "model = LinearRegression()\n",
    "X_y_train=model.fit(X_train, y_train)\n",
    "\n",
    "print(\"\\nModel Name:\",model,'\\n')\n",
    "print(\"Features of X_train, y_train is : \"+model.feature_names_in_)\n",
    "\n",
    "# Making predictions on the test set\n",
    "y_pred = model.predict(X_test)\n",
    "print(\"\\ny_pred shape : \",y_pred.shape)\n",
    "\n",
    "# Calculating RMSE\n",
    "rmse = np.sqrt(mean_squared_error(y_test, y_pred))\n",
    "\n",
    "# Displaying the RMSE value\n",
    "print(\"\\nRoot Mean Squared Error (RMSE) Linear Regression :\", rmse)"
   ]
  },
  {
   "cell_type": "markdown",
   "id": "uqXooCy0Sw9B",
   "metadata": {
    "id": "uqXooCy0Sw9B"
   },
   "source": [
    "**Apply StandardScaller and split the dataset into train and test(20%)**"
   ]
  },
  {
   "cell_type": "code",
   "execution_count": 41,
   "id": "LcyKKccGVzaY",
   "metadata": {
    "id": "LcyKKccGVzaY"
   },
   "outputs": [],
   "source": [
    "from sklearn.preprocessing import StandardScaler\n",
    "\n",
    "# Apply StandardScaler\n",
    "scaler = StandardScaler()\n",
    "X_standardized = scaler.fit_transform(X)\n",
    "\n",
    "# Split the dataset into train and test (80% train, 20% test)\n",
    "X_train, X_test, y_train, y_test = train_test_split(X_standardized, y, test_size=0.2, random_state=42)\n",
    "\n"
   ]
  },
  {
   "cell_type": "markdown",
   "id": "dEygHE0mS687",
   "metadata": {
    "id": "dEygHE0mS687"
   },
   "source": [
    "**Display all field in the dataset using boxplot**"
   ]
  },
  {
   "cell_type": "code",
   "execution_count": 42,
   "id": "Mf2AdzWWVz2S",
   "metadata": {
    "id": "Mf2AdzWWVz2S"
   },
   "outputs": [
    {
     "data": {
      "image/png": "[encoded data removed]",
      "text/plain": [
       "<Figure size 2000x300 with 1 Axes>"
      ]
     },
     "metadata": {},
     "output_type": "display_data"
    }
   ],
   "source": [
    "# Display boxplots for all numeric fields\n",
    "plt.figure(figsize=(20, 3))\n",
    "sns.boxplot(data=df, orient='v')\n",
    "plt.title('Boxplots for All Numeric Fields')\n",
    "plt.show()"
   ]
  },
  {
   "cell_type": "markdown",
   "id": "REkskrWlTRZ0",
   "metadata": {
    "id": "REkskrWlTRZ0"
   },
   "source": [
    "**Apply Linear Regression and calculate RMSE value**"
   ]
  },
  {
   "cell_type": "code",
   "execution_count": 43,
   "id": "UCXEWz1EV0Yr",
   "metadata": {
    "id": "UCXEWz1EV0Yr"
   },
   "outputs": [
    {
     "name": "stdout",
     "output_type": "stream",
     "text": [
      "Root Mean Squared Error (RMSE) StandardScaller using Linear Regression: 1330.3770710699025\n"
     ]
    }
   ],
   "source": [
    "# Apply Linear Regression\n",
    "model = LinearRegression()\n",
    "model.fit(X_train, y_train)\n",
    "\n",
    "# Predict on the test set\n",
    "y_pred = model.predict(X_test)\n",
    "\n",
    "# Calculate RMSE\n",
    "standard_scaler_rmse = np.sqrt(mean_squared_error(y_test, y_pred))\n",
    "print(f'Root Mean Squared Error (RMSE) StandardScaller using Linear Regression: {standard_scaler_rmse}')"
   ]
  },
  {
   "cell_type": "code",
   "execution_count": 44,
   "id": "7180bdcd-13c2-4a76-bb94-158c5cb64b7a",
   "metadata": {},
   "outputs": [],
   "source": [
    "rmse_data={}"
   ]
  },
  {
   "cell_type": "markdown",
   "id": "yv7HlvPETZZl",
   "metadata": {
    "id": "yv7HlvPETZZl"
   },
   "source": [
    "**Apply MinMaxScaler, split the dataset into train and test(20%), apply LinearRegression and calculate RMSE**"
   ]
  },
  {
   "cell_type": "code",
   "execution_count": 45,
   "id": "uBIpOrM5V083",
   "metadata": {
    "id": "uBIpOrM5V083"
   },
   "outputs": [
    {
     "name": "stdout",
     "output_type": "stream",
     "text": [
      "Root Mean Squared Error (RMSE) MinMaxScaler: 1330.3770710699023\n"
     ]
    }
   ],
   "source": [
    "from sklearn.preprocessing import MinMaxScaler\n",
    "\n",
    "# Apply MinMaxScaler\n",
    "scaler = MinMaxScaler()\n",
    "X_scaled = scaler.fit_transform(X)\n",
    "\n",
    "# Split the dataset into train and test (80% train, 20% test)\n",
    "X_train, X_test, y_train, y_test = train_test_split(X_scaled, y, test_size=0.2, random_state=42)\n",
    "\n",
    "# Apply Linear Regression\n",
    "model = LinearRegression()\n",
    "model.fit(X_train, y_train)\n",
    "\n",
    "# Predict on the test set\n",
    "y_pred = model.predict(X_test)\n",
    "\n",
    "# Calculate RMSE\n",
    "rmse = np.sqrt(mean_squared_error(y_test, y_pred))\n",
    "rmse_data[str(scaler)]=rmse\n",
    "print(f'Root Mean Squared Error (RMSE) MinMaxScaler: {rmse}')\n"
   ]
  },
  {
   "cell_type": "markdown",
   "id": "RsmaZrfJTf1J",
   "metadata": {
    "id": "RsmaZrfJTf1J"
   },
   "source": [
    "**Apply RobustScaler,Split the dataset into train and test(20%), apply LinearRegression and calculate RMSE**"
   ]
  },
  {
   "cell_type": "code",
   "execution_count": 46,
   "id": "b5d9XLQ9V1if",
   "metadata": {
    "id": "b5d9XLQ9V1if"
   },
   "outputs": [
    {
     "name": "stdout",
     "output_type": "stream",
     "text": [
      "Root Mean Squared Error (RMSE) RobustScaler: 1330.3770710699025\n"
     ]
    }
   ],
   "source": [
    "from sklearn.preprocessing import RobustScaler\n",
    "\n",
    "# Apply RobustScaler\n",
    "scaler = RobustScaler()\n",
    "X_scaled = scaler.fit_transform(X)\n",
    "\n",
    "# Split the dataset into train and test (80% train, 20% test)\n",
    "X_train, X_test, y_train, y_test = train_test_split(X_scaled, y, test_size=0.2, random_state=42)\n",
    "\n",
    "# Apply Linear Regression\n",
    "model = LinearRegression()\n",
    "model.fit(X_train, y_train)\n",
    "\n",
    "# Predict on the test set\n",
    "y_pred = model.predict(X_test)\n",
    "\n",
    "# Calculate RMSE\n",
    "rmse = np.sqrt(mean_squared_error(y_test, y_pred))\n",
    "rmse_data[str(scaler)]=rmse\n",
    "print(f'Root Mean Squared Error (RMSE) RobustScaler: {rmse}')"
   ]
  },
  {
   "cell_type": "markdown",
   "id": "TqHyxOlsTmwQ",
   "metadata": {
    "id": "TqHyxOlsTmwQ"
   },
   "source": [
    "**Apply MaxAbsScaler, split the dataset into train and test(20%), apply LinearRegression and calculate RMSE**"
   ]
  },
  {
   "cell_type": "code",
   "execution_count": 47,
   "id": "gHhPvv_JV18V",
   "metadata": {
    "id": "gHhPvv_JV18V"
   },
   "outputs": [
    {
     "name": "stdout",
     "output_type": "stream",
     "text": [
      "Root Mean Squared Error (RMSE) RobustScaler: 1330.3770710699025\n"
     ]
    }
   ],
   "source": [
    "from sklearn.preprocessing import MaxAbsScaler\n",
    "\n",
    "# Apply MaxAbsScaler\n",
    "scaler = MaxAbsScaler()\n",
    "X_scaled = scaler.fit_transform(X)\n",
    "\n",
    "# Split the dataset into train and test (80% train, 20% test)\n",
    "X_train, X_test, y_train, y_test = train_test_split(X_scaled, y, test_size=0.2, random_state=42)\n",
    "\n",
    "# Apply Linear Regression\n",
    "model = LinearRegression()\n",
    "model.fit(X_train, y_train)\n",
    "\n",
    "# Predict on the test set\n",
    "y_pred = model.predict(X_test)\n",
    "\n",
    "# Calculate RMSE\n",
    "rmse = np.sqrt(mean_squared_error(y_test, y_pred))\n",
    "rmse_data[str(scaler)]=rmse\n",
    "print(f'Root Mean Squared Error (RMSE) RobustScaler: {rmse}')"
   ]
  },
  {
   "cell_type": "markdown",
   "id": "VwKDpRyXTqVt",
   "metadata": {
    "id": "VwKDpRyXTqVt"
   },
   "source": [
    "**Apply Normalizer, split the dataset into train and test(20%), apply LinearRegression and calculate RMSE**"
   ]
  },
  {
   "cell_type": "code",
   "execution_count": 48,
   "id": "KMmGXImyV2eW",
   "metadata": {
    "id": "KMmGXImyV2eW"
   },
   "outputs": [
    {
     "name": "stdout",
     "output_type": "stream",
     "text": [
      "Root Mean Squared Error (RMSE) Normalizer: 1433.2135040375158\n"
     ]
    }
   ],
   "source": [
    "from sklearn.preprocessing import Normalizer\n",
    "\n",
    "# Apply Normalizer\n",
    "normalizer = Normalizer()\n",
    "X_normalized = normalizer.fit_transform(X)\n",
    "\n",
    "# Split the dataset into train and test (80% train, 20% test)\n",
    "X_train, X_test, y_train, y_test = train_test_split(X_normalized, y, test_size=0.2, random_state=42)\n",
    "\n",
    "# Apply Linear Regression\n",
    "model = LinearRegression()\n",
    "model.fit(X_train, y_train)\n",
    "\n",
    "# Predict on the test set\n",
    "y_pred = model.predict(X_test)\n",
    "\n",
    "# Calculate RMSE\n",
    "rmse = np.sqrt(mean_squared_error(y_test, y_pred))\n",
    "rmse_data[str(normalizer)]=rmse\n",
    "print(f'Root Mean Squared Error (RMSE) Normalizer: {rmse}')"
   ]
  },
  {
   "cell_type": "markdown",
   "id": "aXlMurapT-jK",
   "metadata": {
    "id": "aXlMurapT-jK"
   },
   "source": [
    "**Define a function valuelabel to place the legend of each bar in the histogram**"
   ]
  },
  {
   "cell_type": "code",
   "execution_count": 49,
   "id": "8s1VmLS2V3Bv",
   "metadata": {
    "id": "8s1VmLS2V3Bv"
   },
   "outputs": [],
   "source": [
    "def valuelabel(ax):\n",
    "    # Function to add value labels on top of each bar in a histogram\n",
    "    for p in ax.patches:\n",
    "        ax.annotate(f'{p.get_height():.2f}', (p.get_x() + p.get_width() / 2., p.get_height()),\n",
    "                    ha='center', va='center', xytext=(0, 10), textcoords='offset points')\n",
    "      "
   ]
  },
  {
   "cell_type": "markdown",
   "id": "HaErXDOPURMM",
   "metadata": {
    "id": "HaErXDOPURMM"
   },
   "source": [
    "**Plot a histogram to display the RMSE value of each scaler**"
   ]
  },
  {
   "cell_type": "code",
   "execution_count": 50,
   "id": "0e789792",
   "metadata": {
    "id": "0e789792"
   },
   "outputs": [
    {
     "data": {
      "image/png": "[encoded data removed]",
      "text/plain": [
       "<Figure size 1000x800 with 1 Axes>"
      ]
     },
     "metadata": {},
     "output_type": "display_data"
    }
   ],
   "source": [
    "# Import necessary libraries\n",
    "import matplotlib.pyplot as plt\n",
    "import random\n",
    "\n",
    "# Assuming rmse_data is a dictionary containing RMSE values for different scalers\n",
    "# Example: rmse_data = {'StandardScaler': 0.123, 'MinMaxScaler': 0.456, 'RobustScaler': 0.789}\n",
    "\n",
    "# Generate random colors for each bar\n",
    "colors = [f'#{random.randint(0, 0xFFFFFF):06x}' for _ in rmse_data]\n",
    "\n",
    "# Plotting a bar chart\n",
    "fig, ax = plt.subplots(figsize=(10, 8))\n",
    "bars = ax.bar(rmse_data.keys(), rmse_data.values(), color=colors)\n",
    "ax.set_xlabel('Preprocessing Techniques')\n",
    "ax.set_ylabel('RMSE Values')\n",
    "ax.set_title('Bar Chart for RMSE values ')\n",
    "\n",
    "# Call the valuelabel function to add value labels on top of each bar\n",
    "valuelabel(ax)\n",
    "\n",
    "# Display the plot\n",
    "plt.show()\n"
   ]
  },
  {
   "cell_type": "code",
   "execution_count": null,
   "id": "97a1aea4-7330-472d-919a-a021a251077e",
   "metadata": {},
   "outputs": [],
   "source": []
  },
  {
   "cell_type": "code",
   "execution_count": null,
   "id": "5a5becb1-1145-41f6-83d7-5b48e41356da",
   "metadata": {},
   "outputs": [],
   "source": [
    "\n"
   ]
  },
  {
   "cell_type": "code",
   "execution_count": null,
   "id": "a6d6cbfd-5d62-4d64-bd86-daf8861d6e00",
   "metadata": {},
   "outputs": [],
   "source": []
  }
 ],
 "metadata": {
  "colab": {
   "provenance": []
  },
  "kernelspec": {
   "display_name": "Python 3 (ipykernel)",
   "language": "python",
   "name": "python3"
  },
  "language_info": {
   "codemirror_mode": {
    "name": "ipython",
    "version": 3
   },
   "file_extension": ".py",
   "mimetype": "text/x-python",
   "name": "python",
   "nbconvert_exporter": "python",
   "pygments_lexer": "ipython3",
   "version": "3.11.3"
  }
 },
 "nbformat": 4,
 "nbformat_minor": 5
}
