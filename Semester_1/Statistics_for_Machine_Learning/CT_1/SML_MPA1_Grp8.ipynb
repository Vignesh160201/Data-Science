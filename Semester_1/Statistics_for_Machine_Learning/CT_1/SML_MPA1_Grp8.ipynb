{
 "cells": [
  {
   "cell_type": "markdown",
   "metadata": {
    "id": "_d5YE9CI77M3"
   },
   "source": [
    "<table align=\"center\" width=100%>\n",
    "    <tr>\n",
    "        <td width=\"15%\">\n",
    "            <img src=\"in_class.png\">\n",
    "        </td>\n",
    "        <td>\n",
    "            <div align=\"center\">\n",
    "                <font color=\"#21618C\" size=8px>\n",
    "                    <b> Statistics for Machine Learning <br>MPA-1\n",
    "                    </b>\n",
    "                </font>\n",
    "            </div>\n",
    "        </td>\n",
    "    </tr>\n",
    "</table>"
   ]
  },
  {
   "cell_type": "markdown",
   "metadata": {
    "id": "DR5ZcT0T77M4"
   },
   "source": [
    "### About the dataset (Adult Income Data)\n",
    "\n",
    "The dataset contains information about the individuals' age, gender, and several attributes affecting the income of a person. <br> Attribute information:\n",
    "\n",
    "**age:** Age of an individual\n",
    "\n",
    "**workclass:** Working class of the individual\n",
    "\n",
    "**fnlwgt:** Weights based on the demographic characteristics\n",
    "\n",
    "**education:** Highest education of the individual\n",
    "\n",
    "**education.num:** Education encoded with unique numbers\n",
    "\n",
    "**marital.status:** Marital status of the individual\n",
    "\n",
    "**occupation:** Occupation of the individual\n",
    "\n",
    "**relationship:** Relation of the individual in the family\n",
    "\n",
    "**race:** Race of the individual\n",
    "\n",
    "**sex:** Gender of the individual (0 = Male, 1 = Female)\n",
    "\n",
    "**capital.gain:** Gain amount of the individual\n",
    "\n",
    "**capital.loss:** Loss amount of the individual\n",
    "\n",
    "**hours.per.week:** Working hours per week\n",
    "\n",
    "**native.country:** The native country of the individual\n",
    "\n",
    "**income:** Income of the individual"
   ]
  },
  {
   "cell_type": "markdown",
   "metadata": {
    "id": "zKloz-bP77M4"
   },
   "source": [
    "##  Table of Content\n",
    "\n",
    "1. **[Understand the Dataset](#data)**\n",
    "2. **[Measures of Central Tendency](#ct)**\n",
    "3. **[Measures of Dispersion](#md)**\n",
    "4. **[Skewness and kurtosis](#sk)**\n",
    "5. **[Correlation](#corr)**\n",
    "6. **[Probability and Distributions](#prob)**"
   ]
  },
  {
   "cell_type": "markdown",
   "metadata": {
    "id": "jBlzTMJa77M5"
   },
   "source": [
    "**Import the required libraries**"
   ]
  },
  {
   "cell_type": "code",
   "execution_count": 24,
   "metadata": {
    "id": "3ihgnwSc77M6"
   },
   "outputs": [],
   "source": [
    "\n",
    "# import pandas\n",
    "import pandas as pd\n",
    "\n",
    "# import numpy\n",
    "import numpy as np\n",
    "\n",
    "# import matplotlib.pyplot\n",
    "import matplotlib.pyplot as plt\n",
    "\n",
    "# import seaborn\n",
    "import seaborn as sns\n",
    "\n",
    "# to suppress the warnings\n",
    "import warnings\n",
    "warnings.filterwarnings('ignore')\n",
    "\n",
    "#For probability questions\n",
    "import math\n",
    "from math import comb"
   ]
  },
  {
   "cell_type": "code",
   "execution_count": 2,
   "metadata": {},
   "outputs": [],
   "source": [
    "#!pip install openpyxl"
   ]
  },
  {
   "cell_type": "markdown",
   "metadata": {
    "id": "MxCpQeSs77M9"
   },
   "source": [
    "**Load the adults income dataset and print first five observations**"
   ]
  },
  {
   "cell_type": "code",
   "execution_count": 60,
   "metadata": {
    "id": "FkiINfQg77M_"
   },
   "outputs": [],
   "source": [
    "data=pd.read_excel(\"adult_income.xlsx\")\n",
    "df=pd.DataFrame(data)\n",
    "\n",
    "df.head()\n",
    "df=df.replace('?','NAN')"
   ]
  },
  {
   "cell_type": "code",
   "execution_count": 67,
   "metadata": {},
   "outputs": [
    {
     "data": {
      "text/html": [
       "<div>\n",
       "<style scoped>\n",
       "    .dataframe tbody tr th:only-of-type {\n",
       "        vertical-align: middle;\n",
       "    }\n",
       "\n",
       "    .dataframe tbody tr th {\n",
       "        vertical-align: top;\n",
       "    }\n",
       "\n",
       "    .dataframe thead th {\n",
       "        text-align: right;\n",
       "    }\n",
       "</style>\n",
       "<table border=\"1\" class=\"dataframe\">\n",
       "  <thead>\n",
       "    <tr style=\"text-align: right;\">\n",
       "      <th></th>\n",
       "      <th>age</th>\n",
       "      <th>workclass</th>\n",
       "      <th>fnlwgt</th>\n",
       "      <th>education</th>\n",
       "      <th>education.num</th>\n",
       "      <th>marital.status</th>\n",
       "      <th>occupation</th>\n",
       "      <th>relationship</th>\n",
       "      <th>race</th>\n",
       "      <th>sex</th>\n",
       "      <th>capital.gain</th>\n",
       "      <th>capital.loss</th>\n",
       "      <th>hours.per.week</th>\n",
       "      <th>native.country</th>\n",
       "      <th>income</th>\n",
       "    </tr>\n",
       "  </thead>\n",
       "  <tbody>\n",
       "    <tr>\n",
       "      <th>0</th>\n",
       "      <td>90</td>\n",
       "      <td>NAN</td>\n",
       "      <td>77053</td>\n",
       "      <td>HS-grad</td>\n",
       "      <td>9</td>\n",
       "      <td>Widowed</td>\n",
       "      <td>NAN</td>\n",
       "      <td>Not-in-family</td>\n",
       "      <td>White</td>\n",
       "      <td>1</td>\n",
       "      <td>0</td>\n",
       "      <td>4356</td>\n",
       "      <td>40</td>\n",
       "      <td>United-States</td>\n",
       "      <td>&lt;=50K</td>\n",
       "    </tr>\n",
       "    <tr>\n",
       "      <th>1</th>\n",
       "      <td>82</td>\n",
       "      <td>Private</td>\n",
       "      <td>132870</td>\n",
       "      <td>HS-grad</td>\n",
       "      <td>9</td>\n",
       "      <td>Widowed</td>\n",
       "      <td>Exec-managerial</td>\n",
       "      <td>Not-in-family</td>\n",
       "      <td>White</td>\n",
       "      <td>1</td>\n",
       "      <td>0</td>\n",
       "      <td>4356</td>\n",
       "      <td>18</td>\n",
       "      <td>United-States</td>\n",
       "      <td>&lt;=50K</td>\n",
       "    </tr>\n",
       "    <tr>\n",
       "      <th>2</th>\n",
       "      <td>66</td>\n",
       "      <td>NAN</td>\n",
       "      <td>186061</td>\n",
       "      <td>Some-college</td>\n",
       "      <td>10</td>\n",
       "      <td>Widowed</td>\n",
       "      <td>NAN</td>\n",
       "      <td>Unmarried</td>\n",
       "      <td>Black</td>\n",
       "      <td>1</td>\n",
       "      <td>0</td>\n",
       "      <td>4356</td>\n",
       "      <td>40</td>\n",
       "      <td>United-States</td>\n",
       "      <td>&lt;=50K</td>\n",
       "    </tr>\n",
       "    <tr>\n",
       "      <th>3</th>\n",
       "      <td>54</td>\n",
       "      <td>Private</td>\n",
       "      <td>140359</td>\n",
       "      <td>7th-8th</td>\n",
       "      <td>4</td>\n",
       "      <td>Divorced</td>\n",
       "      <td>Machine-op-inspct</td>\n",
       "      <td>Unmarried</td>\n",
       "      <td>White</td>\n",
       "      <td>1</td>\n",
       "      <td>0</td>\n",
       "      <td>3900</td>\n",
       "      <td>40</td>\n",
       "      <td>United-States</td>\n",
       "      <td>&lt;=50K</td>\n",
       "    </tr>\n",
       "    <tr>\n",
       "      <th>4</th>\n",
       "      <td>41</td>\n",
       "      <td>Private</td>\n",
       "      <td>264663</td>\n",
       "      <td>Some-college</td>\n",
       "      <td>10</td>\n",
       "      <td>Separated</td>\n",
       "      <td>Prof-specialty</td>\n",
       "      <td>Own-child</td>\n",
       "      <td>White</td>\n",
       "      <td>1</td>\n",
       "      <td>0</td>\n",
       "      <td>3900</td>\n",
       "      <td>40</td>\n",
       "      <td>United-States</td>\n",
       "      <td>&lt;=50K</td>\n",
       "    </tr>\n",
       "  </tbody>\n",
       "</table>\n",
       "</div>"
      ],
      "text/plain": [
       "   age workclass  fnlwgt     education  education.num marital.status  \\\n",
       "0   90       NAN   77053       HS-grad              9        Widowed   \n",
       "1   82   Private  132870       HS-grad              9        Widowed   \n",
       "2   66       NAN  186061  Some-college             10        Widowed   \n",
       "3   54   Private  140359       7th-8th              4       Divorced   \n",
       "4   41   Private  264663  Some-college             10      Separated   \n",
       "\n",
       "          occupation   relationship   race  sex  capital.gain  capital.loss  \\\n",
       "0                NAN  Not-in-family  White    1             0          4356   \n",
       "1    Exec-managerial  Not-in-family  White    1             0          4356   \n",
       "2                NAN      Unmarried  Black    1             0          4356   \n",
       "3  Machine-op-inspct      Unmarried  White    1             0          3900   \n",
       "4     Prof-specialty      Own-child  White    1             0          3900   \n",
       "\n",
       "   hours.per.week native.country income  \n",
       "0              40  United-States  <=50K  \n",
       "1              18  United-States  <=50K  \n",
       "2              40  United-States  <=50K  \n",
       "3              40  United-States  <=50K  \n",
       "4              40  United-States  <=50K  "
      ]
     },
     "execution_count": 67,
     "metadata": {},
     "output_type": "execute_result"
    }
   ],
   "source": [
    "df.head()"
   ]
  },
  {
   "cell_type": "markdown",
   "metadata": {
    "id": "RHCn-uCU77ND"
   },
   "source": [
    "<a id=\"data\"> </a>\n",
    "## 1. Understand the Dataset"
   ]
  },
  {
   "cell_type": "markdown",
   "metadata": {
    "id": "QIGT6lBF77ND"
   },
   "source": [
    "<table align=\"left\">\n",
    "    <tr>\n",
    "        <td width=\"6%\">\n",
    "            <img src=\"question_icon.png\">\n",
    "        </td>\n",
    "        <td>\n",
    "            <div align=\"left\", style=\"font-size:120%\">\n",
    "                <font color=\"#21618C\">\n",
    "                    <b>1. Find out the numerical and categorical variables in the data. If any variable is wrongly identified, do the needful\n",
    "</b>\n",
    "                </font>\n",
    "            </div>\n",
    "        </td>\n",
    "    </tr>\n",
    "</table>"
   ]
  },
  {
   "cell_type": "code",
   "execution_count": 62,
   "metadata": {
    "id": "PRvN3yNT9FkX"
   },
   "outputs": [],
   "source": [
    "data_types = df.dtypes\n",
    "numerical_variables =  df.select_dtypes(exclude=['object', 'category']).columns.tolist()\n",
    "\n",
    "categorical_variables = df.select_dtypes(include=['object', 'category']).columns.tolist()\n",
    "numerical_summary = df[numerical_variables].describe()"
   ]
  },
  {
   "cell_type": "code",
   "execution_count": 63,
   "metadata": {},
   "outputs": [
    {
     "name": "stdout",
     "output_type": "stream",
     "text": [
      "       workclass education      marital.status      occupation relationship  \\\n",
      "count      32561     32561               32561           32561        32561   \n",
      "unique         9        16                   7              15            6   \n",
      "top      Private   HS-grad  Married-civ-spouse  Prof-specialty      Husband   \n",
      "freq       22696     10501               14976            4140        13193   \n",
      "\n",
      "         race native.country income  \n",
      "count   32561          32561  32561  \n",
      "unique      5             42      2  \n",
      "top     White  United-States  <=50K  \n",
      "freq    27816          29170  24720  \n"
     ]
    }
   ],
   "source": [
    "categorical_summary = df[categorical_variables].describe()\n",
    "print(categorical_summary)"
   ]
  },
  {
   "cell_type": "code",
   "execution_count": 64,
   "metadata": {},
   "outputs": [
    {
     "name": "stdout",
     "output_type": "stream",
     "text": [
      "Numerical Variables:\n",
      "['age', 'fnlwgt', 'education.num', 'sex', 'capital.gain', 'capital.loss', 'hours.per.week']\n",
      "\n",
      "Categorical Variables:\n",
      "['workclass', 'education', 'marital.status', 'occupation', 'relationship', 'race', 'native.country', 'income']\n"
     ]
    }
   ],
   "source": [
    "# Print the results\n",
    "print(\"Numerical Variables:\")\n",
    "print(numerical_variables)\n",
    "print(\"\\nCategorical Variables:\")\n",
    "print(categorical_variables)\n"
   ]
  },
  {
   "cell_type": "code",
   "execution_count": 68,
   "metadata": {},
   "outputs": [],
   "source": [
    "df['sex']=pd.cut(df['sex'], bins=[0,0.5,1.5], labels=['Male','Female'])"
   ]
  },
  {
   "cell_type": "code",
   "execution_count": 69,
   "metadata": {},
   "outputs": [
    {
     "name": "stdout",
     "output_type": "stream",
     "text": [
      "Numerical Variables:\n",
      "['age', 'fnlwgt', 'education.num', 'capital.gain', 'capital.loss', 'hours.per.week']\n",
      "\n",
      "Categorical Variables:\n",
      "['workclass', 'education', 'marital.status', 'occupation', 'relationship', 'race', 'sex', 'native.country', 'income']\n"
     ]
    }
   ],
   "source": [
    "data_types = df.dtypes\n",
    "numerical_variables =  df.select_dtypes(exclude=['object', 'category']).columns.tolist()\n",
    "\n",
    "categorical_variables = df.select_dtypes(include=['object', 'category']).columns.tolist()\n",
    "numerical_summary = df[numerical_variables].describe()\n",
    "categorical_summary = df[categorical_variables].describe()\n",
    "# Print the results\n",
    "print(\"Numerical Variables:\")\n",
    "print(numerical_variables)\n",
    "print(\"\\nCategorical Variables:\")\n",
    "print(categorical_variables)"
   ]
  },
  {
   "cell_type": "code",
   "execution_count": 70,
   "metadata": {},
   "outputs": [
    {
     "data": {
      "text/html": [
       "<div>\n",
       "<style scoped>\n",
       "    .dataframe tbody tr th:only-of-type {\n",
       "        vertical-align: middle;\n",
       "    }\n",
       "\n",
       "    .dataframe tbody tr th {\n",
       "        vertical-align: top;\n",
       "    }\n",
       "\n",
       "    .dataframe thead th {\n",
       "        text-align: right;\n",
       "    }\n",
       "</style>\n",
       "<table border=\"1\" class=\"dataframe\">\n",
       "  <thead>\n",
       "    <tr style=\"text-align: right;\">\n",
       "      <th></th>\n",
       "      <th>age</th>\n",
       "      <th>workclass</th>\n",
       "      <th>fnlwgt</th>\n",
       "      <th>education</th>\n",
       "      <th>education.num</th>\n",
       "      <th>marital.status</th>\n",
       "      <th>occupation</th>\n",
       "      <th>relationship</th>\n",
       "      <th>race</th>\n",
       "      <th>sex</th>\n",
       "      <th>capital.gain</th>\n",
       "      <th>capital.loss</th>\n",
       "      <th>hours.per.week</th>\n",
       "      <th>native.country</th>\n",
       "      <th>income</th>\n",
       "    </tr>\n",
       "  </thead>\n",
       "  <tbody>\n",
       "    <tr>\n",
       "      <th>0</th>\n",
       "      <td>90</td>\n",
       "      <td>NAN</td>\n",
       "      <td>77053</td>\n",
       "      <td>HS-grad</td>\n",
       "      <td>9</td>\n",
       "      <td>Widowed</td>\n",
       "      <td>NAN</td>\n",
       "      <td>Not-in-family</td>\n",
       "      <td>White</td>\n",
       "      <td>Female</td>\n",
       "      <td>0</td>\n",
       "      <td>4356</td>\n",
       "      <td>40</td>\n",
       "      <td>United-States</td>\n",
       "      <td>&lt;=50K</td>\n",
       "    </tr>\n",
       "    <tr>\n",
       "      <th>1</th>\n",
       "      <td>82</td>\n",
       "      <td>Private</td>\n",
       "      <td>132870</td>\n",
       "      <td>HS-grad</td>\n",
       "      <td>9</td>\n",
       "      <td>Widowed</td>\n",
       "      <td>Exec-managerial</td>\n",
       "      <td>Not-in-family</td>\n",
       "      <td>White</td>\n",
       "      <td>Female</td>\n",
       "      <td>0</td>\n",
       "      <td>4356</td>\n",
       "      <td>18</td>\n",
       "      <td>United-States</td>\n",
       "      <td>&lt;=50K</td>\n",
       "    </tr>\n",
       "    <tr>\n",
       "      <th>2</th>\n",
       "      <td>66</td>\n",
       "      <td>NAN</td>\n",
       "      <td>186061</td>\n",
       "      <td>Some-college</td>\n",
       "      <td>10</td>\n",
       "      <td>Widowed</td>\n",
       "      <td>NAN</td>\n",
       "      <td>Unmarried</td>\n",
       "      <td>Black</td>\n",
       "      <td>Female</td>\n",
       "      <td>0</td>\n",
       "      <td>4356</td>\n",
       "      <td>40</td>\n",
       "      <td>United-States</td>\n",
       "      <td>&lt;=50K</td>\n",
       "    </tr>\n",
       "    <tr>\n",
       "      <th>3</th>\n",
       "      <td>54</td>\n",
       "      <td>Private</td>\n",
       "      <td>140359</td>\n",
       "      <td>7th-8th</td>\n",
       "      <td>4</td>\n",
       "      <td>Divorced</td>\n",
       "      <td>Machine-op-inspct</td>\n",
       "      <td>Unmarried</td>\n",
       "      <td>White</td>\n",
       "      <td>Female</td>\n",
       "      <td>0</td>\n",
       "      <td>3900</td>\n",
       "      <td>40</td>\n",
       "      <td>United-States</td>\n",
       "      <td>&lt;=50K</td>\n",
       "    </tr>\n",
       "    <tr>\n",
       "      <th>4</th>\n",
       "      <td>41</td>\n",
       "      <td>Private</td>\n",
       "      <td>264663</td>\n",
       "      <td>Some-college</td>\n",
       "      <td>10</td>\n",
       "      <td>Separated</td>\n",
       "      <td>Prof-specialty</td>\n",
       "      <td>Own-child</td>\n",
       "      <td>White</td>\n",
       "      <td>Female</td>\n",
       "      <td>0</td>\n",
       "      <td>3900</td>\n",
       "      <td>40</td>\n",
       "      <td>United-States</td>\n",
       "      <td>&lt;=50K</td>\n",
       "    </tr>\n",
       "  </tbody>\n",
       "</table>\n",
       "</div>"
      ],
      "text/plain": [
       "   age workclass  fnlwgt     education  education.num marital.status  \\\n",
       "0   90       NAN   77053       HS-grad              9        Widowed   \n",
       "1   82   Private  132870       HS-grad              9        Widowed   \n",
       "2   66       NAN  186061  Some-college             10        Widowed   \n",
       "3   54   Private  140359       7th-8th              4       Divorced   \n",
       "4   41   Private  264663  Some-college             10      Separated   \n",
       "\n",
       "          occupation   relationship   race     sex  capital.gain  \\\n",
       "0                NAN  Not-in-family  White  Female             0   \n",
       "1    Exec-managerial  Not-in-family  White  Female             0   \n",
       "2                NAN      Unmarried  Black  Female             0   \n",
       "3  Machine-op-inspct      Unmarried  White  Female             0   \n",
       "4     Prof-specialty      Own-child  White  Female             0   \n",
       "\n",
       "   capital.loss  hours.per.week native.country income  \n",
       "0          4356              40  United-States  <=50K  \n",
       "1          4356              18  United-States  <=50K  \n",
       "2          4356              40  United-States  <=50K  \n",
       "3          3900              40  United-States  <=50K  \n",
       "4          3900              40  United-States  <=50K  "
      ]
     },
     "execution_count": 70,
     "metadata": {},
     "output_type": "execute_result"
    }
   ],
   "source": [
    "df.head()"
   ]
  },
  {
   "cell_type": "markdown",
   "metadata": {
    "id": "PG5SPHpL77NP"
   },
   "source": [
    "<a id=\"ct\"> </a>\n",
    "## 2. Measures of Central Tendency"
   ]
  },
  {
   "cell_type": "markdown",
   "metadata": {
    "id": "F5RuhsBL77NP"
   },
   "source": [
    "<table align=\"left\">\n",
    "    <tr>\n",
    "        <td width=\"6%\">\n",
    "            <img src=\"question_icon.png\">\n",
    "        </td>\n",
    "        <td>\n",
    "            <div align=\"left\", style=\"font-size:120%\">\n",
    "                <font color=\"#21618C\">\n",
    "                    <b>2. What is the average age of males and females in the data?</b>\n",
    "                </font>\n",
    "            </div>\n",
    "        </td>\n",
    "    </tr>\n",
    "</table>"
   ]
  },
  {
   "cell_type": "code",
   "execution_count": 7,
   "metadata": {},
   "outputs": [
    {
     "name": "stdout",
     "output_type": "stream",
     "text": [
      "Average age of males : 39.0\n",
      "Average age of females :  37.0\n"
     ]
    }
   ],
   "source": [
    "avg_age_males=df[df['sex'] == 0]['age'].mean().round()\n",
    "avg_age_females=df[df['sex']==1]['age'].mean().round()\n",
    "\n",
    "#df.groupby('sex')['age'].mean().round()\n",
    "print('Average age of males :',avg_age_males)\n",
    "print('Average age of females : ',avg_age_females)"
   ]
  },
  {
   "cell_type": "code",
   "execution_count": 27,
   "metadata": {},
   "outputs": [
    {
     "data": {
      "text/plain": [
       "sex\n",
       "0    39.0\n",
       "1    37.0\n",
       "Name: age, dtype: float64"
      ]
     },
     "execution_count": 27,
     "metadata": {},
     "output_type": "execute_result"
    }
   ],
   "source": [
    "df.groupby('sex')['age'].mean().round()"
   ]
  },
  {
   "cell_type": "markdown",
   "metadata": {
    "id": "5bp-1Oja77NW"
   },
   "source": [
    "<table align=\"left\">\n",
    "    <tr>\n",
    "        <td width=\"6%\">\n",
    "            <img src=\"question_icon.png\">\n",
    "        </td>\n",
    "        <td>\n",
    "            <div align=\"left\", style=\"font-size:120%\">\n",
    "                <font color=\"#21618C\">\n",
    "                    <b>3. Identify the qualification of most of the individuals </b>\n",
    "                </font>\n",
    "            </div>\n",
    "        </td>\n",
    "    </tr>\n",
    "</table>"
   ]
  },
  {
   "cell_type": "code",
   "execution_count": 75,
   "metadata": {},
   "outputs": [
    {
     "name": "stdout",
     "output_type": "stream",
     "text": [
      "Qualification of most of individuals is : HS-grad\n"
     ]
    }
   ],
   "source": [
    "education_qualification=df['education'].mode().values[0]\n",
    "print('Qualification of most of individuals is :',education_qualification)"
   ]
  },
  {
   "cell_type": "markdown",
   "metadata": {
    "id": "GvMgDacs77Nd"
   },
   "source": [
    "<table align=\"left\">\n",
    "    <tr>\n",
    "        <td width=\"6%\">\n",
    "            <img src=\"question_icon.png\">\n",
    "        </td>\n",
    "        <td>\n",
    "            <div align=\"left\", style=\"font-size:120%\">\n",
    "                <font color=\"#21618C\">\n",
    "                    <b>4\n",
    "                  . Find the middle most observation of age for different working class</b>\n",
    "                </font>\n",
    "            </div>\n",
    "        </td>\n",
    "    </tr>\n",
    "</table>"
   ]
  },
  {
   "cell_type": "code",
   "execution_count": 9,
   "metadata": {},
   "outputs": [
    {
     "data": {
      "text/plain": [
       "workclass\n",
       "Federal-gov         43.0\n",
       "Local-gov           41.0\n",
       "NAN                 35.0\n",
       "Never-worked        18.0\n",
       "Private             35.0\n",
       "Self-emp-inc        45.0\n",
       "Self-emp-not-inc    44.0\n",
       "State-gov           39.0\n",
       "Without-pay         57.0\n",
       "Name: age, dtype: float64"
      ]
     },
     "execution_count": 9,
     "metadata": {},
     "output_type": "execute_result"
    }
   ],
   "source": [
    "df.groupby('workclass')['age'].median()"
   ]
  },
  {
   "cell_type": "markdown",
   "metadata": {
    "id": "YwPVeFFh77Np"
   },
   "source": [
    "<a id=\"md\"> </a>\n",
    "## 3. Measures of Dispersion"
   ]
  },
  {
   "cell_type": "markdown",
   "metadata": {
    "id": "tT51Xjt277Np"
   },
   "source": [
    "<table align=\"left\">\n",
    "    <tr>\n",
    "        <td width=\"6%\">\n",
    "            <img src=\"question_icon.png\">\n",
    "        </td>\n",
    "        <td>\n",
    "            <div align=\"left\", style=\"font-size:120%\">\n",
    "                <font color=\"#21618C\">\n",
    "                    <b>5. Which occupation has more variability in the working hours</b>\n",
    "                </font>\n",
    "            </div>\n",
    "        </td>\n",
    "    </tr>\n",
    "</table>"
   ]
  },
  {
   "cell_type": "code",
   "execution_count": 10,
   "metadata": {},
   "outputs": [
    {
     "data": {
      "text/plain": [
       "occupation\n",
       "Adm-clerical          91.964888\n",
       "Armed-Forces         198.000000\n",
       "Craft-repair          81.939394\n",
       "Exec-managerial      123.412395\n",
       "Farming-fishing      299.987814\n",
       "Handlers-cleaners    111.946104\n",
       "Machine-op-inspct     57.648955\n",
       "NAN                  225.317543\n",
       "Other-service        161.442544\n",
       "Priv-house-serv      261.939597\n",
       "Prof-specialty       157.159186\n",
       "Protective-serv      152.072728\n",
       "Sales                175.202547\n",
       "Tech-support         112.001859\n",
       "Transport-moving     161.833503\n",
       "Name: hours.per.week, dtype: float64"
      ]
     },
     "execution_count": 10,
     "metadata": {},
     "output_type": "execute_result"
    }
   ],
   "source": [
    "df.groupby('occupation')['hours.per.week'].var()"
   ]
  },
  {
   "cell_type": "code",
   "execution_count": 11,
   "metadata": {},
   "outputs": [
    {
     "data": {
      "text/plain": [
       "occupation\n",
       "Adm-clerical          9.589833\n",
       "Armed-Forces         14.071247\n",
       "Craft-repair          9.052038\n",
       "Exec-managerial      11.109113\n",
       "Farming-fishing      17.320156\n",
       "Handlers-cleaners    10.580459\n",
       "Machine-op-inspct     7.592691\n",
       "NAN                  15.010581\n",
       "Other-service        12.706004\n",
       "Priv-house-serv      16.184548\n",
       "Prof-specialty       12.536315\n",
       "Protective-serv      12.331777\n",
       "Sales                13.236410\n",
       "Tech-support         10.583093\n",
       "Transport-moving     12.721380\n",
       "Name: hours.per.week, dtype: float64"
      ]
     },
     "execution_count": 11,
     "metadata": {},
     "output_type": "execute_result"
    }
   ],
   "source": [
    "df.groupby('occupation')['hours.per.week'].std()"
   ]
  },
  {
   "cell_type": "markdown",
   "metadata": {
    "id": "I3vp8e3d77Nu"
   },
   "source": [
    "<table align=\"left\">\n",
    "    <tr>\n",
    "        <td width=\"6%\">\n",
    "            <img src=\"question_icon.png\">\n",
    "        </td>\n",
    "        <td>\n",
    "            <div align=\"left\", style=\"font-size:120%\">\n",
    "                <font color=\"#21618C\">\n",
    "                    <b> 6. What is the range of the middle 50% of working hours per week?</b>\n",
    "                </font>\n",
    "            </div>\n",
    "        </td>\n",
    "    </tr>\n",
    "</table>"
   ]
  },
  {
   "cell_type": "code",
   "execution_count": 12,
   "metadata": {},
   "outputs": [
    {
     "name": "stdout",
     "output_type": "stream",
     "text": [
      "The IQR (Interquartile Range) is: 5.0\n",
      "The range of the middle 50% of working hours is from 32.5 to 52.5\n"
     ]
    }
   ],
   "source": [
    "Q1=df['hours.per.week'].quantile(0.25)\n",
    "Q3=df['hours.per.week'].quantile(0.75)\n",
    "\n",
    "IQR = Q3 - Q1\n",
    "\n",
    "# Calculate the range of the middle 50% of working hours\n",
    "lower_limit = Q1 - 1.5 * IQR\n",
    "upper_limit = Q3 + 1.5 * IQR\n",
    "\n",
    "print(f\"The IQR (Interquartile Range) is: {IQR}\")\n",
    "print(f\"The range of the middle 50% of working hours is from {lower_limit} to {upper_limit}\")"
   ]
  },
  {
   "cell_type": "markdown",
   "metadata": {
    "id": "0gOo1Ts777Nx"
   },
   "source": [
    "<table align=\"left\">\n",
    "    <tr>\n",
    "        <td width=\"6%\">\n",
    "            <img src=\"question_icon.png\">\n",
    "        </td>\n",
    "        <td>\n",
    "            <div align=\"left\", style=\"font-size:120%\">\n",
    "                <font color=\"#21618C\">\n",
    "                    <b>7. Are there any variables which can be excluded from further analysis based on their variability?</b>\n",
    "                </font>\n",
    "            </div>\n",
    "        </td>\n",
    "    </tr>\n",
    "</table>"
   ]
  },
  {
   "cell_type": "code",
   "execution_count": 13,
   "metadata": {},
   "outputs": [
    {
     "name": "stdout",
     "output_type": "stream",
     "text": [
      "Yes we can exclude the Lower variablity which is near to zero which is meaning less and Higher variablity leads to deviation of result \n"
     ]
    }
   ],
   "source": [
    "print('Yes we can exclude the Lower variablity which is near to zero which is meaning less and Higher variablity leads to deviation of result ')"
   ]
  },
  {
   "cell_type": "code",
   "execution_count": null,
   "metadata": {},
   "outputs": [],
   "source": []
  },
  {
   "cell_type": "markdown",
   "metadata": {
    "id": "nA4MibMm77OH"
   },
   "source": [
    "<a id=\"sk\"> </a>\n",
    "## 4. Skewness and kurtosis"
   ]
  },
  {
   "cell_type": "markdown",
   "metadata": {
    "id": "AT9mxUrn77OI"
   },
   "source": [
    "<table align=\"left\">\n",
    "    <tr>\n",
    "        <td width=\"6%\">\n",
    "            <img src=\"question_icon.png\">\n",
    "        </td>\n",
    "        <td>\n",
    "            <div align=\"left\", style=\"font-size:120%\">\n",
    "                <font color=\"#21618C\">\n",
    "                    <b>8. Is there any negatively skewed feature. Support your answer with a metric and the plot</b>\n",
    "                </font>\n",
    "            </div>\n",
    "        </td>\n",
    "    </tr>\n",
    "</table>"
   ]
  },
  {
   "cell_type": "code",
   "execution_count": 14,
   "metadata": {},
   "outputs": [
    {
     "name": "stdout",
     "output_type": "stream",
     "text": [
      "This is optional output :\n",
      "Skewness of Age are 0.5587433694130483\n",
      "Skewness of fnlwgt are 1.4469800945789828\n",
      "Skewness of education_num are -0.31167586791022966\n",
      "Skewness of capital_gain are 11.953847687699794\n",
      "Skewness of capital_loss are 4.594629121679696\n",
      "Skewness of hours_per_week are 0.22224067717684567\n"
     ]
    }
   ],
   "source": [
    "print('This is optional output :')\n",
    "age_skewness= df['age'].skew()\n",
    "fnlwgt_skewness= df['fnlwgt'].skew()\n",
    "education_num_skewness= df['education.num'].skew()\n",
    "capital_gain_skewness= df['capital.gain'].skew()\n",
    "capital_loss_skewness= df['capital.loss'].skew()\n",
    "hours_per_week_skewness= df['hours.per.week'].skew()\n",
    "print('Skewness of Age are',age_skewness)\n",
    "print('Skewness of fnlwgt are',fnlwgt_skewness)\n",
    "print('Skewness of education_num are',education_num_skewness)\n",
    "print('Skewness of capital_gain are',capital_gain_skewness)\n",
    "print('Skewness of capital_loss are',capital_loss_skewness)\n",
    "print('Skewness of hours_per_week are',hours_per_week_skewness)\n"
   ]
  },
  {
   "cell_type": "code",
   "execution_count": 15,
   "metadata": {},
   "outputs": [
    {
     "data": {
      "image/png": "[encoded data removed]",
      "text/plain": [
       "<Figure size 5000x5000 with 100 Axes>"
      ]
     },
     "metadata": {},
     "output_type": "display_data"
    },
    {
     "data": {
      "text/plain": [
       "age                0.558743\n",
       "fnlwgt             1.446980\n",
       "education.num     -0.311676\n",
       "sex                0.719293\n",
       "capital.gain      11.953848\n",
       "capital.loss       4.594629\n",
       "hours.per.week     0.222241\n",
       "dtype: float64"
      ]
     },
     "execution_count": 15,
     "metadata": {},
     "output_type": "execute_result"
    }
   ],
   "source": [
    "df.hist(bins=20, layout=(10, 10), figsize=(50, 50))\n",
    "plt.show()\n",
    "\n",
    "df.skew(numeric_only=True)\n"
   ]
  },
  {
   "cell_type": "code",
   "execution_count": null,
   "metadata": {},
   "outputs": [],
   "source": [
    "From above plot we are able to see education.num is negatively skewed"
   ]
  },
  {
   "cell_type": "markdown",
   "metadata": {
    "id": "p20nq6a477OO"
   },
   "source": [
    "<table align=\"left\">\n",
    "    <tr>\n",
    "        <td width=\"6%\">\n",
    "            <img src=\"question_icon.png\">\n",
    "        </td>\n",
    "        <td>\n",
    "            <div align=\"left\", style=\"font-size:120%\">\n",
    "                <font color=\"#21618C\">\n",
    "                    <b>9. Find the kurtosis of all the variables, and give appropriate interpretation</b>\n",
    "                </font>\n",
    "            </div>\n",
    "        </td>\n",
    "    </tr>\n",
    "</table>"
   ]
  },
  {
   "cell_type": "code",
   "execution_count": 16,
   "metadata": {},
   "outputs": [
    {
     "name": "stdout",
     "output_type": "stream",
     "text": [
      "<class 'pandas.core.series.Series'>\n",
      "age                -0.166127\n",
      "fnlwgt              6.218811\n",
      "education.num       0.623444\n",
      "sex                -1.482709\n",
      "capital.gain      154.799438\n",
      "capital.loss       20.376802\n",
      "hours.per.week      2.916782\n",
      "dtype: float64\n"
     ]
    }
   ],
   "source": [
    "kurtosis_values=df.kurt(numeric_only=True)\n",
    "print(type(kurtosis_values))\n",
    "print(kurtosis_values)"
   ]
  },
  {
   "cell_type": "code",
   "execution_count": 17,
   "metadata": {},
   "outputs": [
    {
     "name": "stdout",
     "output_type": "stream",
     "text": [
      "\n",
      "Age has a kurtosis of -0.17, shows Light-tailed (negative kurtosis).\n",
      "\n",
      "Fnlwgt has a kurtosis of 6.22, shows Heavy-tailed (positive kurtosis).\n",
      "\n",
      "Education.num has a kurtosis of 0.62, shows Light-tailed (negative kurtosis).\n",
      "\n",
      "Sex has a kurtosis of -1.48, shows Light-tailed (negative kurtosis).\n",
      "\n",
      "Capital.gain has a kurtosis of 154.80, shows Heavy-tailed (positive kurtosis).\n",
      "\n",
      "Capital.loss has a kurtosis of 20.38, shows Heavy-tailed (positive kurtosis).\n",
      "\n",
      "Hours.per.week has a kurtosis of 2.92, shows Light-tailed (negative kurtosis).\n"
     ]
    }
   ],
   "source": [
    "for feature, kurtosis_value in kurtosis_values.items():\n",
    "    if kurtosis_value > 3:\n",
    "        interpretation = \"heavy-tailed (positive kurtosis)\"\n",
    "    elif kurtosis_value < 3:\n",
    "        interpretation = \"light-tailed (negative kurtosis)\"\n",
    "    else:\n",
    "        interpretation = \"mesokurtic (similar to a normal distribution)\"\n",
    "    \n",
    "    print(f\"\\n{feature.capitalize()} has a kurtosis of {kurtosis_value:.2f}, shows {interpretation.capitalize()}.\")"
   ]
  },
  {
   "cell_type": "code",
   "execution_count": 18,
   "metadata": {},
   "outputs": [
    {
     "name": "stdout",
     "output_type": "stream",
     "text": [
      "Interpretation:\n",
      "\n",
      "\n",
      "If the kurtosis is greater than 3, it means that the distribution is heavy-tailed, indicating more extreme values than a normal distribution.\n",
      "\n",
      "If the kurtosis is less than 3, it means that the distribution is light-tailed, indicating fewer extreme values than a normal distribution.\n",
      "\n",
      "If the kurtosis is approximately 3, it is considered mesokurtic, which means the distribution is similar to a normal distribution in terms of kurtosis.\n"
     ]
    }
   ],
   "source": [
    "kurtosis_interpretation='''Interpretation:\n",
    "\n",
    "\\nIf the kurtosis is greater than 3, it means that the distribution is heavy-tailed, indicating more extreme values than a normal distribution.\n",
    "\\nIf the kurtosis is less than 3, it means that the distribution is light-tailed, indicating fewer extreme values than a normal distribution.\n",
    "\\nIf the kurtosis is approximately 3, it is considered mesokurtic, which means the distribution is similar to a normal distribution in terms of kurtosis.'''\n",
    "\n",
    "print(kurtosis_interpretation)"
   ]
  },
  {
   "cell_type": "markdown",
   "metadata": {
    "id": "5_XEeLsU77OR"
   },
   "source": [
    "<table align=\"left\">\n",
    "    <tr>\n",
    "        <td width=\"6%\">\n",
    "            <img src=\"question_icon.png\">\n",
    "        </td>\n",
    "        <td>\n",
    "            <div align=\"left\", style=\"font-size:120%\">\n",
    "                <font color=\"#21618C\">\n",
    "                    <b>10. Identify the presence of extreme values in age using visualization techniques\n",
    "</b>\n",
    "                </font>\n",
    "            </div>\n",
    "        </td>\n",
    "    </tr>\n",
    "</table>"
   ]
  },
  {
   "cell_type": "code",
   "execution_count": 19,
   "metadata": {},
   "outputs": [],
   "source": [
    "age_data = df['age']"
   ]
  },
  {
   "cell_type": "code",
   "execution_count": 20,
   "metadata": {},
   "outputs": [
    {
     "data": {
      "image/png": "[encoded data removed]",
      "text/plain": [
       "<Figure size 800x400 with 1 Axes>"
      ]
     },
     "metadata": {},
     "output_type": "display_data"
    }
   ],
   "source": [
    "\n",
    "# Create a histogram with density estimation\n",
    "plt.figure(figsize=(8, 4))\n",
    "sns.histplot(age_data, kde=True)\n",
    "plt.title('Histogram  of Age')\n",
    "plt.xlabel('Age')\n",
    "plt.show()"
   ]
  },
  {
   "cell_type": "code",
   "execution_count": 21,
   "metadata": {},
   "outputs": [
    {
     "data": {
      "image/png": "[encoded data removed]",
      "text/plain": [
       "<Figure size 600x400 with 1 Axes>"
      ]
     },
     "metadata": {},
     "output_type": "display_data"
    }
   ],
   "source": [
    "\n",
    "# Create a box plot for 'age'\n",
    "plt.figure(figsize=(6, 4))\n",
    "plt.boxplot(age_data, vert=False)\n",
    "plt.title('Box Plot of Age')\n",
    "plt.xlabel('Age')\n",
    "plt.show()"
   ]
  },
  {
   "cell_type": "code",
   "execution_count": 22,
   "metadata": {},
   "outputs": [
    {
     "data": {
      "image/png": "[encoded data removed]",
      "text/plain": [
       "<Figure size 800x400 with 1 Axes>"
      ]
     },
     "metadata": {},
     "output_type": "display_data"
    }
   ],
   "source": [
    "# Create a violin plot\n",
    "plt.figure(figsize=(8, 4))\n",
    "sns.violinplot(x=age_data)\n",
    "plt.title('Violin Plot of Age')\n",
    "plt.xlabel('Age')\n",
    "plt.show()"
   ]
  },
  {
   "cell_type": "code",
   "execution_count": 23,
   "metadata": {},
   "outputs": [
    {
     "data": {
      "image/png": "[encoded data removed]",
      "text/plain": [
       "<Figure size 800x400 with 1 Axes>"
      ]
     },
     "metadata": {},
     "output_type": "display_data"
    }
   ],
   "source": [
    "# Create a boxen plot\n",
    "plt.figure(figsize=(8, 4))\n",
    "sns.boxenplot(x=age_data)\n",
    "plt.title('Boxen Plot of Age')\n",
    "plt.xlabel('Age')\n",
    "plt.show()\n"
   ]
  },
  {
   "cell_type": "markdown",
   "metadata": {
    "id": "HXCMwkzE77OW"
   },
   "source": [
    "<a id=\"corr\"> </a>\n",
    "## 5. Correlation"
   ]
  },
  {
   "cell_type": "markdown",
   "metadata": {
    "id": "9htEKXBr77OX"
   },
   "source": [
    "<table align=\"left\">\n",
    "    <tr>\n",
    "        <td width=\"6%\">\n",
    "            <img src=\"question_icon.png\">\n",
    "        </td>\n",
    "        <td>\n",
    "            <div align=\"left\", style=\"font-size:120%\">\n",
    "                <font color=\"#21618C\">\n",
    "                    <b>11. Is there any effect of age on the working hours of a person?</b>\n",
    "                </font>\n",
    "            </div>\n",
    "        </td>\n",
    "    </tr>\n",
    "</table>"
   ]
  },
  {
   "cell_type": "code",
   "execution_count": 24,
   "metadata": {},
   "outputs": [
    {
     "data": {
      "text/html": [
       "<div>\n",
       "<style scoped>\n",
       "    .dataframe tbody tr th:only-of-type {\n",
       "        vertical-align: middle;\n",
       "    }\n",
       "\n",
       "    .dataframe tbody tr th {\n",
       "        vertical-align: top;\n",
       "    }\n",
       "\n",
       "    .dataframe thead th {\n",
       "        text-align: right;\n",
       "    }\n",
       "</style>\n",
       "<table border=\"1\" class=\"dataframe\">\n",
       "  <thead>\n",
       "    <tr style=\"text-align: right;\">\n",
       "      <th></th>\n",
       "      <th>age</th>\n",
       "      <th>fnlwgt</th>\n",
       "      <th>education.num</th>\n",
       "      <th>sex</th>\n",
       "      <th>capital.gain</th>\n",
       "      <th>capital.loss</th>\n",
       "      <th>hours.per.week</th>\n",
       "    </tr>\n",
       "  </thead>\n",
       "  <tbody>\n",
       "    <tr>\n",
       "      <th>age</th>\n",
       "      <td>1.000000</td>\n",
       "      <td>-0.076646</td>\n",
       "      <td>0.036527</td>\n",
       "      <td>-0.088832</td>\n",
       "      <td>0.077674</td>\n",
       "      <td>0.057775</td>\n",
       "      <td>0.069311</td>\n",
       "    </tr>\n",
       "    <tr>\n",
       "      <th>fnlwgt</th>\n",
       "      <td>-0.076646</td>\n",
       "      <td>1.000000</td>\n",
       "      <td>-0.043195</td>\n",
       "      <td>-0.026858</td>\n",
       "      <td>0.000432</td>\n",
       "      <td>-0.010252</td>\n",
       "      <td>-0.019033</td>\n",
       "    </tr>\n",
       "    <tr>\n",
       "      <th>education.num</th>\n",
       "      <td>0.036527</td>\n",
       "      <td>-0.043195</td>\n",
       "      <td>1.000000</td>\n",
       "      <td>-0.012280</td>\n",
       "      <td>0.122630</td>\n",
       "      <td>0.079923</td>\n",
       "      <td>0.148544</td>\n",
       "    </tr>\n",
       "    <tr>\n",
       "      <th>sex</th>\n",
       "      <td>-0.088832</td>\n",
       "      <td>-0.026858</td>\n",
       "      <td>-0.012280</td>\n",
       "      <td>1.000000</td>\n",
       "      <td>-0.048480</td>\n",
       "      <td>-0.045567</td>\n",
       "      <td>-0.229017</td>\n",
       "    </tr>\n",
       "    <tr>\n",
       "      <th>capital.gain</th>\n",
       "      <td>0.077674</td>\n",
       "      <td>0.000432</td>\n",
       "      <td>0.122630</td>\n",
       "      <td>-0.048480</td>\n",
       "      <td>1.000000</td>\n",
       "      <td>-0.031615</td>\n",
       "      <td>0.078409</td>\n",
       "    </tr>\n",
       "    <tr>\n",
       "      <th>capital.loss</th>\n",
       "      <td>0.057775</td>\n",
       "      <td>-0.010252</td>\n",
       "      <td>0.079923</td>\n",
       "      <td>-0.045567</td>\n",
       "      <td>-0.031615</td>\n",
       "      <td>1.000000</td>\n",
       "      <td>0.054314</td>\n",
       "    </tr>\n",
       "    <tr>\n",
       "      <th>hours.per.week</th>\n",
       "      <td>0.069311</td>\n",
       "      <td>-0.019033</td>\n",
       "      <td>0.148544</td>\n",
       "      <td>-0.229017</td>\n",
       "      <td>0.078409</td>\n",
       "      <td>0.054314</td>\n",
       "      <td>1.000000</td>\n",
       "    </tr>\n",
       "  </tbody>\n",
       "</table>\n",
       "</div>"
      ],
      "text/plain": [
       "                     age    fnlwgt  education.num       sex  capital.gain  \\\n",
       "age             1.000000 -0.076646       0.036527 -0.088832      0.077674   \n",
       "fnlwgt         -0.076646  1.000000      -0.043195 -0.026858      0.000432   \n",
       "education.num   0.036527 -0.043195       1.000000 -0.012280      0.122630   \n",
       "sex            -0.088832 -0.026858      -0.012280  1.000000     -0.048480   \n",
       "capital.gain    0.077674  0.000432       0.122630 -0.048480      1.000000   \n",
       "capital.loss    0.057775 -0.010252       0.079923 -0.045567     -0.031615   \n",
       "hours.per.week  0.069311 -0.019033       0.148544 -0.229017      0.078409   \n",
       "\n",
       "                capital.loss  hours.per.week  \n",
       "age                 0.057775        0.069311  \n",
       "fnlwgt             -0.010252       -0.019033  \n",
       "education.num       0.079923        0.148544  \n",
       "sex                -0.045567       -0.229017  \n",
       "capital.gain       -0.031615        0.078409  \n",
       "capital.loss        1.000000        0.054314  \n",
       "hours.per.week      0.054314        1.000000  "
      ]
     },
     "execution_count": 24,
     "metadata": {},
     "output_type": "execute_result"
    }
   ],
   "source": [
    "df.corr(numeric_only=True)"
   ]
  },
  {
   "cell_type": "code",
   "execution_count": 25,
   "metadata": {},
   "outputs": [
    {
     "name": "stdout",
     "output_type": "stream",
     "text": [
      "\n",
      " Pearson Correlation between Age and Working Hours: 0.07\n",
      "\n",
      " Pearson Correlation is  Not significant, correlation: 0.07\n"
     ]
    }
   ],
   "source": [
    "correlation = df['age'].corr(df['hours.per.week'])\n",
    "\n",
    "print(f\"\\n Pearson Correlation between Age and Working Hours: {correlation:.2f}\")\n",
    "significance = \"significant\" if correlation <0.05 else \" Not significant\" \n",
    "print(f\"\\n Pearson Correlation is {significance}, correlation: {correlation:.2f}\")\n"
   ]
  },
  {
   "cell_type": "code",
   "execution_count": 26,
   "metadata": {},
   "outputs": [
    {
     "name": "stdout",
     "output_type": "stream",
     "text": [
      "\n",
      "Interpretation:\n",
      "\n",
      "If the correlation is positive and significant, it suggests that as age increases, working hours tend to increase.\n",
      "\n",
      "If the correlation is negative and significant, it suggests that as age increases, working hours tend to decrease.\n",
      "\n",
      "If the correlation is positive but non-significant correlation suggests a weak relationship between age and working hours, and further investigation may be needed to understand the nature of this relationship.\n"
     ]
    }
   ],
   "source": [
    "correlation_interpretation='''\\nInterpretation:\n",
    "\\nIf the correlation is positive and significant, it suggests that as age increases, working hours tend to increase.\n",
    "\\nIf the correlation is negative and significant, it suggests that as age increases, working hours tend to decrease.\n",
    "\\nIf the correlation is positive but non-significant correlation suggests a weak relationship between age and working hours, and further investigation may be needed to understand the nature of this relationship.'''\n",
    "print(correlation_interpretation)\n"
   ]
  },
  {
   "cell_type": "markdown",
   "metadata": {
    "id": "m727KZIxC5_-"
   },
   "source": [
    "<a id=\"corr\"> </a>\n",
    "## 6. Probability and Distributions"
   ]
  },
  {
   "cell_type": "markdown",
   "metadata": {
    "id": "PpXlc7s5DErM"
   },
   "source": [
    "<table align=\"left\">\n",
    "    <tr>\n",
    "        <td width=\"6%\">\n",
    "            <img src=\"question_icon.png\">\n",
    "        </td>\n",
    "        <td>\n",
    "            <div align=\"left\", style=\"font-size:120%\">\n",
    "                <font color=\"#21618C\">\n",
    "                    <b>12. The probabilities that “A” and “B” will tell the truth are 2/3 and 4/5 respectively. What is the probability that i) they agree with each other ii) they contradict each other while giving a witness in the court.</b>\n",
    "                </font>\n",
    "            </div>\n",
    "        </td>\n",
    "    </tr>\n",
    "</table>"
   ]
  },
  {
   "cell_type": "markdown",
   "metadata": {
    "id": "F2jUFfZRE2wd"
   },
   "source": [
    "<table align=\"left\">\n",
    "    <tr>\n",
    "        <td width=\"6%\">\n",
    "            <img src=\"question_icon.png\">\n",
    "        </td>\n",
    "        <td>\n",
    "            <div align=\"left\", style=\"font-size:120%\">\n",
    "                <font color=\"#21618C\">\n",
    "                    <b>13.A city affected by 3 cyclones in a year on an average. Find the probability if the same city will getting affected by exactly 2 cyclones in the upcoming year </b>\n",
    "                </font>\n",
    "            </div>\n",
    "        </td>\n",
    "    </tr>\n",
    "</table>"
   ]
  },
  {
   "cell_type": "markdown",
   "metadata": {
    "id": "G3x8YigYFAyp"
   },
   "source": [
    "<table align=\"left\">\n",
    "    <tr>\n",
    "        <td width=\"6%\">\n",
    "            <img src=\"question_icon.png\">\n",
    "        </td>\n",
    "        <td>\n",
    "            <div align=\"left\", style=\"font-size:120%\">\n",
    "                <font color=\"#21618C\">\n",
    "                    <b>14.If an athlete attended 6 olympics in his lifetime. Find the probability if he exactly have 2 wins </b>\n",
    "                </font>\n",
    "            </div>\n",
    "        </td>\n",
    "    </tr>\n",
    "</table>"
   ]
  },
  {
   "cell_type": "code",
   "execution_count": 76,
   "metadata": {},
   "outputs": [
    {
     "name": "stdout",
     "output_type": "stream",
     "text": [
      "i) Probability that they both agree with each other: 0.6\n",
      "ii) Probability that they contradict each other: 0.4\n"
     ]
    }
   ],
   "source": [
    "# Given probabilities\n",
    "P_A_tells_truth = 2/3\n",
    "P_B_tells_truth = 4/5\n",
    "\n",
    "# Probability that they both agree\n",
    "P_both_agree = (P_A_tells_truth * P_B_tells_truth) + ((1 - P_A_tells_truth) * (1 - P_B_tells_truth))\n",
    "\n",
    "# Probability that they contradict each other\n",
    "P_they_contradict = (P_A_tells_truth * (1 - P_B_tells_truth)) + ((1 - P_A_tells_truth) * P_B_tells_truth)\n",
    "\n",
    "print(\"i) Probability that they both agree with each other:\", P_both_agree)\n",
    "print(\"ii) Probability that they contradict each other:\", P_they_contradict)\n"
   ]
  },
  {
   "cell_type": "code",
   "execution_count": 78,
   "metadata": {},
   "outputs": [
    {
     "name": "stdout",
     "output_type": "stream",
     "text": [
      "The probability of getting exactly 2 cyclones in the upcoming year is: 0.2240\n"
     ]
    }
   ],
   "source": [
    "import math\n",
    "\n",
    "# Average number of cyclones per year (λ)\n",
    "average_cyclones_per_year = 3\n",
    "\n",
    "# Number of cyclones you want to find the probability for (k)\n",
    "k = 2\n",
    "\n",
    "# Calculate the probability using the Poisson distribution formula\n",
    "probability = (math.exp(-average_cyclones_per_year) * (average_cyclones_per_year ** k)) / math.factorial(k)\n",
    "\n",
    "print(f\"The probability of getting exactly {k} cyclones in the upcoming year is: {probability:.4f}\")\n"
   ]
  },
  {
   "cell_type": "code",
   "execution_count": 77,
   "metadata": {},
   "outputs": [
    {
     "name": "stdout",
     "output_type": "stream",
     "text": [
      "The probability of exactly 2 wins in 6 Olympics is: 0.2457600000000001\n"
     ]
    }
   ],
   "source": [
    "from math import comb\n",
    "\n",
    "# Define the number of trials (Olympics attended) and probability of winning one Olympics\n",
    "n = 6\n",
    "p = 0.2  # Replace with the actual probability of winning\n",
    "\n",
    "# Define the number of desired wins\n",
    "k = 2\n",
    "\n",
    "# Calculate the binomial probability\n",
    "probability = comb(n, k) * (p ** k) * ((1 - p) ** (n - k))\n",
    "\n",
    "print(\"The probability of exactly 2 wins in 6 Olympics is:\", probability)\n"
   ]
  }
 ],
 "metadata": {
  "colab": {
   "provenance": []
  },
  "kernelspec": {
   "display_name": "Python 3 (ipykernel)",
   "language": "python",
   "name": "python3"
  },
  "language_info": {
   "codemirror_mode": {
    "name": "ipython",
    "version": 3
   },
   "file_extension": ".py",
   "mimetype": "text/x-python",
   "name": "python",
   "nbconvert_exporter": "python",
   "pygments_lexer": "ipython3",
   "version": "3.11.3"
  }
 },
 "nbformat": 4,
 "nbformat_minor": 4
}
