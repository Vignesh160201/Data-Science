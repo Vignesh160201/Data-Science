{
  "cells": [
    {
      "cell_type": "markdown",
      "metadata": {
        "id": "CAs0zcKsbICS"
      },
      "source": [
        "# SML CT-2"
      ]
    },
    {
      "cell_type": "markdown",
      "metadata": {
        "id": "kvr4SYTxbICU"
      },
      "source": [
        "### Data_set:\n",
        "Since 2008, guests and hosts have used Airbnb to expand on traveling possibilities and present more unique, personalized way of experiencing the world. This dataset describes the listing activity and metrics in NYC, NY for 2019."
      ]
    },
    {
      "cell_type": "markdown",
      "metadata": {
        "id": "pgmIfHLMbICV"
      },
      "source": [
        "1. id = listing ID\n",
        "2. name = name of the listing\n",
        "3. host_id = host ID\n",
        "4. host_name = name of the host\n",
        "5. neighbourhood_group = location\n",
        "6. neighbourhood = area\n",
        "7. latitude = latitude coordinates\n",
        "8. longitude = longitude coordinates\n",
        "9. room_type = listing space type\n",
        "10. price = price in dollars (Target variable)\n",
        "11. minimum_nights = amount of nights minimum\n",
        "12. number_of_reviews = number of reviews\n",
        "13. last_review = latest review\n",
        "14. reviews_per_month = number of reviews per month\n",
        "15. calculated_host_listings_count = amount of listing per host\n",
        "16. availability_365 = number of days when listing is available for booking"
      ]
    },
    {
      "cell_type": "markdown",
      "metadata": {
        "_cell_guid": "79c7e3d0-c299-4dcb-8224-4455121ee9b0",
        "_uuid": "d629ff2d2480ee46fbb7e2d37f6b5fab8052498a",
        "collapsed": true,
        "id": "UJ7FKdcxbICV"
      },
      "source": [
        "### 1.\t Read the dataset (tab, csv, xls, txt, inbuilt dataset)\n",
        "\n",
        "\n",
        "\n",
        "\n"
      ]
    },
    {
      "cell_type": "code",
      "execution_count": null,
      "metadata": {
        "id": "bKjj3o84bICW"
      },
      "outputs": [],
      "source": [
        "# Kindly change the below cells from markdown to code and execute it"
      ]
    },
    {
      "cell_type": "markdown",
      "metadata": {
        "id": "3y8O2PKLbICa"
      },
      "source": [
        "import pandas as pd\n",
        "\n",
        "import csv\n",
        "\n",
        "with open(\"data_set.csv\",\"r\")as file:\n",
        "\n",
        "    reader=csv.reader(file)\n",
        "    \n",
        "df=pd.read_csv(\"data_set.csv\")\n",
        "\n",
        "df.head()\n"
      ]
    },
    {
      "cell_type": "code",
      "execution_count": null,
      "metadata": {
        "id": "pfSGKkBkbICa"
      },
      "outputs": [],
      "source": [
        "import numpy as np\n",
        "import pandas as pd\n",
        "import matplotlib\n",
        "import matplotlib.pyplot as plt\n",
        "import seaborn as sns\n",
        "plt.style.use('fivethirtyeight')\n",
        "matplotlib.rcParams['font.family'] = \"Arial\"\n",
        "import collections\n",
        "import itertools\n",
        "import scipy.stats as stats\n",
        "from scipy.stats import norm\n",
        "from scipy.special import boxcox1p\n",
        "import statsmodels\n",
        "import statsmodels.api as sm\n",
        "#print(statsmodels.__version__)\n",
        "from sklearn.preprocessing import scale, StandardScaler, RobustScaler, OneHotEncoder\n",
        "from sklearn.compose import ColumnTransformer\n",
        "from sklearn.model_selection import train_test_split, cross_val_score, GridSearchCV, KFold, StratifiedKFold, RandomizedSearchCV\n",
        "from sklearn.linear_model import Ridge, RidgeCV, Lasso, LassoCV, LinearRegression, ElasticNet\n",
        "from sklearn.metrics import mean_squared_error, r2_score\n",
        "from xgboost import XGBRegressor\n",
        "from sklearn.gaussian_process import GaussianProcessRegressor\n",
        "from sklearn.ensemble import RandomForestRegressor, GradientBoostingRegressor\n",
        "from sklearn.utils import resample\n",
        "from xgboost import XGBRegressor"
      ]
    },
    {
      "cell_type": "markdown",
      "metadata": {
        "id": "FFp2iS_vbICd"
      },
      "source": [
        "### 2.\tData Understanding\n",
        "#### Summarize important observations from the data set (5 Marks)\n",
        "Some pointers which would help you, but don’t be limited by these\n",
        "\n",
        "a.\tWhat are the number of rows; no. & types of variables (continuous, categorical etc.)\n",
        "\n",
        "b.\tCalculate five point summary for numerical variables\n",
        "\n",
        "c.\tSummarize observations for categorical variables – no. of categories, % observations in each category\n"
      ]
    },
    {
      "cell_type": "code",
      "execution_count": null,
      "metadata": {
        "id": "ec86ZC1CbICe"
      },
      "outputs": [],
      "source": []
    },
    {
      "cell_type": "markdown",
      "metadata": {
        "id": "KISMZIiebICg"
      },
      "source": [
        "### 3.\tData Preparation\n",
        "#### Check for defects in the data. Perform necessary actions to ‘fix’ these defects (5 Marks)\n",
        "Some pointers which would help you, but don’t be limited by these\n",
        "\n",
        "a.\tDo variables have missing/null values?\n",
        "\n",
        "b.\tDo variables have outliers?\n",
        "\n",
        "c.\tIs the data normally distributed? Is it a defect? Why or why not?\n"
      ]
    },
    {
      "cell_type": "code",
      "execution_count": null,
      "metadata": {
        "id": "c7FpRGlPbICh"
      },
      "outputs": [],
      "source": []
    },
    {
      "cell_type": "markdown",
      "metadata": {
        "id": "S1AGkFcDbICj"
      },
      "source": [
        "### 4.\tSummarize relationships among variables (5 marks)               \n",
        "a.\tPlot correlation plots. Which are the variables most correlated with Target? Which independent variables are correlated among themselves? Do you want to exclude some variables from the model based on this analysis? What other actions will you take?\n",
        "\n",
        "\n"
      ]
    },
    {
      "cell_type": "code",
      "execution_count": null,
      "metadata": {
        "id": "uIW2dWeObICj"
      },
      "outputs": [],
      "source": []
    },
    {
      "cell_type": "markdown",
      "metadata": {
        "id": "L2pJnXEvbICt"
      },
      "source": [
        "###  5.\tFit a base model. Please write your key observations (5 marks)\n",
        "\n",
        "a. Fit the Linear Regression Model\n",
        "\n",
        "b. What is the overall R2? Please comment on whether it is good or not.\n",
        "\n",
        "c.\tWhich variables are significant?\n"
      ]
    },
    {
      "cell_type": "code",
      "execution_count": null,
      "metadata": {
        "id": "hTS9dDvBbICu"
      },
      "outputs": [],
      "source": []
    },
    {
      "cell_type": "markdown",
      "source": [
        "#+5 marks for inference"
      ],
      "metadata": {
        "id": "cKN-1J9WOYYL"
      }
    }
  ],
  "metadata": {
    "colab": {
      "provenance": []
    },
    "kernelspec": {
      "display_name": "Python 3 (ipykernel)",
      "language": "python",
      "name": "python3"
    },
    "language_info": {
      "codemirror_mode": {
        "name": "ipython",
        "version": 3
      },
      "file_extension": ".py",
      "mimetype": "text/x-python",
      "name": "python",
      "nbconvert_exporter": "python",
      "pygments_lexer": "ipython3",
      "version": "3.9.13"
    }
  },
  "nbformat": 4,
  "nbformat_minor": 0
}